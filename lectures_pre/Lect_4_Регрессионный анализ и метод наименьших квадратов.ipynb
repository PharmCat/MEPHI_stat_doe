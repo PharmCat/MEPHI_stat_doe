{
 "cells": [
  {
   "cell_type": "markdown",
   "id": "86d4276c",
   "metadata": {
    "slideshow": {
     "slide_type": "slide"
    }
   },
   "source": [
    "# Регрессионный анализ и метод наименьших квадратов"
   ]
  },
  {
   "cell_type": "markdown",
   "id": "0fb0cfbe",
   "metadata": {},
   "source": [
    "## Числа, операции над числами и их свойства\n",
    "\n",
    "**Число** - математический объект, основное понятие математики, используемое для количественной характеристики, сравнения, нумерации объектов и их частей.\n",
    "\n",
    " * Натуральные числа ( $\\mathbb {N} $)  (полукольцо натуральных числе с нулем)\n",
    "     - сложение (+)\n",
    "     - умножение (·)\n",
    "     - коммутативность сложения и умножения $a + b = b + a; a·b = b·a$ \n",
    "     - ассоциативность сложения и умножения $ (a + b) + c = a + (b + c); (a · b) · c = a · (b · c)$\n",
    "     - дистрибутивность умножения относительно сложения $(a + b) · c = a · b + a·c$\n",
    "     - Существование нейтрального элемента: $a + 0 = 0 + a = a$\n",
    "     - Мультипликативной свойство нуля: $a · 0 = 0 · a = 0$\n",
    "     - Существует единичный элемент (1): $a · e = e · a = a$\n",
    "     \n",
    " * Целые числа ( $ \\mathbb {Z} $ )  (кольцо)\n",
    "     - Существование противоположного элемента относительно сложения: $∀ a ∈ \\mathbb {Z} ∃ b ∈ \\mathbb {Z} (a + b = b + a = 0)$\n",
    " * Рациональные числа ( $\\mathbb {Q} $ )  (поле)\n",
    "     - Существование обратного элемента для ненулевых элементов: $(∀ a ∈ \\mathbb {Q}:a ≠ 0) ∃ a^{-1} ∈ \\mathbb {Q}: a · a = e$, где $e$ - единичный элемент. \n",
    " * Действительные (вещественные) числа ( $\\mathbb {R}$ )"
   ]
  },
  {
   "cell_type": "markdown",
   "id": "0c94258d",
   "metadata": {},
   "source": [
    "# Некоторые понятия линейной алгебры\n",
    "___\n",
    "\n",
    "##  Определения \n",
    "\n",
    "   * скаляр - величина, не обладающая направлением, задается числом.\n",
    "   * вектор - величина, обладающая направлением, может описываться двумя и более числами.\n",
    "   * матрица - вектор в пространстве $R^mn$, имеющий размерность $m$ x $n$, где $m$ строк и $n$ столбцов.\n",
    "\n",
    "**Скаляр (скалярная величина)** (далее будем обозначать маленьгими греческими буквами: $α, β, λ$) -  величина, полностью определяемая в любой координатной системе одним числом или функцией, которое не изменяется при изменении пространственной системы координат, т.е. величина, не обладающая направлением, задается числом.\n",
    "\n",
    "**Вектор** (далее будем обозначать маленькими латинскими буквами: $a, b, x, y$) - в самом общем смысле: последовательность, (кортеж) однородных элементов. В рамках линейной алгебры - это элемент векторного пространства. В простейшем случае вектор определяется как математический объект, характеризующийся величиной и направлением. \n",
    "\n",
    "Векторы называются **колинеарными** если они лежат на одной прямой. Векторы, лежащие в параллельных плоскостях, называются **компланарными**.\n",
    "\n",
    "**Векторное пространство**\n",
    "\n",
    "Множество $\\mathcal{L}$ с операциями на нем сложенияи ($+$) и умножения ($·$) векторов на векторы и скаляры называется векторным пространством *(или пространство $\\mathcal{L}(\\mathcal{F})$ над полем $\\mathcal{F}$, где $\\mathcal{F}$ обычно поле действительных или комплексных чисел)*, если справедливы следующие свойства:\n",
    "\n",
    "1. коммутативность сложения: для любых векторов $x$ и $y$: $x + y = y + x$;\n",
    "\n",
    "\n",
    "2. ассоциативность сложения: для любых векторов $x$, $y$ и $z$: $(x + y) + z = x + (y + z)$;\n",
    "\n",
    "\n",
    "3. существование нулевого вектора: существует нулевой вектор 0 такой, что для любого вектора $x$: $x + 0 = x$;\n",
    "\n",
    "\n",
    "4. существование противоположного элемента: для любого вектора $x$ существует такой вектор $−x$, что $x + (−x) = 0$;\n",
    "\n",
    "\n",
    "5. свойство единицы: для любого вектора $x$: $1 · x = x$;\n",
    "\n",
    "\n",
    "6. ассоциативность умножения на число: для любого вектора $x$ и любых чисел $α$ и $β$: $(αβ)x = α(βx)$\n",
    "\n",
    "\n",
    "7. дистрибутивность относительно сложения векторов: для любых векторов $x$ и $y$ и любого числа $α$: $α(x + y) = αx + αy$;\n",
    "\n",
    "\n",
    "8. дистрибутивность относительно сложения чисел: для любого вектора $x$ и любых чисел $α$ и $β$: $(α + β)x = αx + βx$.\n",
    "\n",
    "\n",
    "\n",
    "**$\\mathcal{N}\\mathcal{B}$ - Коммутативность относитльно умножения не предусмотрена.**"
   ]
  },
  {
   "cell_type": "markdown",
   "id": "d4435670",
   "metadata": {},
   "source": [
    "**Линейная комбинация**\n",
    "\n",
    "Линейной комбинацией векторов $e_1, e_2, e_3, ... e_n$ линейного пространства $\\mathcal{L}$ называется вектор \n",
    "$x = e_1·α_1 + e_2·α_2 + e_3·α_3 + ... + e_n·α_n$, где $α_1 ... α_n$ - числа $∈ \\mathcal{F}$. \n",
    "\n",
    "\n",
    "Если все скаляры равны 0, то такая комбинация называется **тривиальной линейной комбинацией**."
   ]
  },
  {
   "cell_type": "markdown",
   "id": "186e2dfb",
   "metadata": {},
   "source": [
    "**Линейное подпространство,**\n",
    "\n",
    "Линейное подпространство, или векторное подпространство, ― непустое подмножество $\\mathcal{K}$ линейного пространства $\\mathcal{L}$ такое, что $\\mathcal{K}$ само является линейным пространством по отношению к определённым в $\\mathcal{L}$ действиям сложения и умножения на скаляр. При этом:\n",
    "\n",
    "для всяких векторов $x, y ∈ \\mathcal{K}$  вектор $α x + β y$  также принадлежит $\\mathcal{K}$ для любых $α , β ∈ \\mathcal{F}$."
   ]
  },
  {
   "cell_type": "markdown",
   "id": "598cb54b",
   "metadata": {},
   "source": [
    "**Линейная зависимость и независимость**\n",
    "\n",
    "Система $e_1, e_2, e_3, ... e_n$  линейно независима, если равенство $e_1·α_1 + e_2·α_2 + e_3·α_3 + ... + e_n·α_n = 0$ возможно только для тривиальной линейной комбинации.\n",
    "\n",
    "Система $e_1, e_2, e_3, ... e_n$ линейно зависима, если существует нетривиальная линейная комбинация, для которой справедливо равенство $e_1·α_1 + e_2·α_2 + e_3·α_3 + ... + e_n·α_n = 0$\n",
    "\n",
    "Является ли комбинация векторов линейно зависимой:\n",
    "\n",
    "1. \n",
    "\n",
    "* $e_1 = [1, 3, 5]$ \n",
    "* $e_2 = [2, 3, 2]$\n",
    "\n",
    "2. \n",
    "\n",
    "* $e_1 = [1, 2, 1]$ \n",
    "* $e_2 = [1, 2, 3]$\n",
    "* $e_2 = [3, 6, 7]$\n",
    "\n",
    "3. \n",
    "\n",
    "* $e_1 = [1, 2, 1]$ \n",
    "* $e_2 = [1, 2, 3]$\n",
    "* $e_2 = [0, 0, 0]$"
   ]
  },
  {
   "cell_type": "markdown",
   "id": "b0e1d7c6",
   "metadata": {
    "slideshow": {
     "slide_type": "slide"
    }
   },
   "source": [
    "**Регрессионный анализ** — набор статистических методов исследования влияния одной или нескольких независимых переменных  $X_{1},X_{2},...,X_{p}$ на зависимую переменную $Y$. Независимые переменные иначе называют **регрессорами** или **предикторами**, а зависимые переменные — **критериальными** или **регрессантами**. Терминология зависимых и независимых переменных отражает лишь математическую зависимость\n",
    "переменных, а не причинно-следственные отношения. Наиболее распространённый вид регрессионного анализа — **линейная регрессия**, когда находят линейную функцию, которая, согласно определённым математическим критериям, наиболее соответствует данным. Например, в методе наименьших квадратов вычисляется прямая (или гиперплоскость), сумма квадратов между которой и данными минимальна. \n",
    "    \n",
    "Какие еще виды регрессии бывают?\n",
    "* Модификации линейной регрессии - Ridge-регрессия / Lasso-регрессия\n",
    "* Нелинейная регрессия "
   ]
  },
  {
   "cell_type": "markdown",
   "id": "8650a25a",
   "metadata": {},
   "source": [
    "**Линейную модель** обычно формулируют следующим образом:\n",
    "\n",
    "$y = β_0 + β_1 · X_1 + β_2 · X_2 + ... + β_n · X_n + e$\n",
    "\n"
   ]
  },
  {
   "cell_type": "markdown",
   "id": "a08d01fa",
   "metadata": {},
   "source": [
    "Пусть даны $m$ измерений, где каждому измерению соответствует $n$ характеристик (уровней факторов). \n",
    "Тогда предикторы (характеристики) могут быть объеденены в матрицу $X$ (таблицу) по строкам которой - наблюдения, \n",
    "по столбцам - характеристики. Результат каждого наблюдения $y$ будет формировать ветор **ответов**. Такимо образом, \n",
    "получается система линейных уравнений составленная из отображений $X_m \\to y_m$:\n",
    "\n",
    "\\begin{equation}\n",
    "    \\begin{cases}\n",
    "    β_1·x_{1,1} + β_2·x_{1,2} + ... +β_n·x_{1,n} = y_1\\\\\n",
    "    β_1·x_{2,1} + β_2·x_{2,2} + ... +β_n·x_{2,n} = y_2\\\\\n",
    "        ...\\\\\n",
    "    β_1·x_{m,1} + β_2·x_{m,2} + ... +β_n·x_{m,n} = y_m\n",
    "    \\end{cases}\n",
    "\\end{equation}\n",
    "\n",
    "\n",
    "Которую также можно записать в матричной форме:\n",
    "\n",
    "$X · β = y$\n",
    "\n",
    "$X$ - $m×n$ дизайн-матрица (матрица коэффициентов СЛУ), $β$ - вектор неизвестных значений, $y$ - вектор значений (\"ответов\"). \n",
    "\n",
    "Найти решение означает - найти такой вектор $β$, который максимально удовлетворяет системе линейных уравнений. Т.к. наблюдений практически всегда больше чем предикторов, то конкретного решения не существует. Поэтому используются определенные правила, которые устанавливают насколько близко найденное решение по отношению к полученным данным. Одним из таких методов является **метод наименьших квадратов**."
   ]
  },
  {
   "cell_type": "markdown",
   "id": "0f6f62c9",
   "metadata": {
    "slideshow": {
     "slide_type": "slide"
    }
   },
   "source": [
    "**Метод наименьших квадратов**\n",
    "\n",
    "Метод применяется для решения задач линейной регрессии.\n",
    "\n",
    "Формально МНК варажается следующим образом:\n",
    "\n",
    "${\\displaystyle \\sum _{i=1}^{M}(y_{i}-{{\\hat y_{i}}})^{2} \\to \\min }$, где:\n",
    "\n",
    "* $M$ — число наблюдений;\n",
    "* $y_{i}$ — значение $i$-го наблюдения;\n",
    "* $\\hat y_{i}$ — оценка значения $i$-го наблюдения (т.е. результат: $\\hat y_{i} = X_i · β$);\n",
    "\n",
    "**Вывод**\n",
    "\n",
    "Пусть $X$ - $m×n$ дизайн-матрица (матрица коэффициентов СЛУ), $β$ - вектор неизвестных значений, $y$ - вектор значений (\"ответов\"). И дана система уравнений:\n",
    "\n",
    "$X · β = y$\n",
    "\n",
    "\n",
    "В случае если количество строк $m > n$ система уравнений не будет иметь решения. Такая система является **переопределённой** и соответственно может быть переформулирована как:\n",
    "\n",
    "$X · β  + ε = y$\n"
   ]
  },
  {
   "cell_type": "markdown",
   "id": "fe21f3b9",
   "metadata": {},
   "source": [
    "**Обозначим:**\n",
    "\n",
    "$X · β  = \\hat{y}$\n",
    "\n",
    "$ε = y - \\hat{y} = y - X · β$\n",
    "\n",
    "Где $\\hat{y}$ - какой-то вектор ответов при некотором векторе $β$. $ε$ - вектор \"ошибок\".\n",
    "\n",
    "Суть задачи сводится к нахождению такого $β$ при котором будет получен как можно меньший вектор \"ошибок\" $ε$. По факту задача сводится с минимизации расстояния между векторами $\\hat{y}$ и $y$. Для этого будет выполнена минимизация скалярного произведения вектора $ε$, т.к. скалярное произведение вектора с самим собой и есть сумма квадратов. Т.е. $ <ε, ε> = 𝑓(𝑋,𝑦,β) → min_β$\n",
    "\n"
   ]
  },
  {
   "cell_type": "markdown",
   "id": "d9869ca0",
   "metadata": {},
   "source": [
    "Запишем:\n",
    "\n",
    "$f(X,y,β) = ε^T · ε = (y - \\hat{y})^T · (y - \\hat{y}) = (y - X · β)^T · (y - X · β)$\n",
    "\n",
    "\n",
    "Раскроем скобки:\n",
    "\n",
    "$f(X,y,β) = y^T · y - y^T · X · β - (X · β)^T · y +  (X · β)^T · X · β $\n",
    "\n",
    "\n",
    "Еще раскроем скобки и напишем без знаков умножения:\n",
    "\n",
    "$f(X,y,β) = y^T y - y^T X β - β^T X^T y +  β^T X^T X β$\n",
    "\n"
   ]
  },
  {
   "cell_type": "markdown",
   "id": "2179e95c",
   "metadata": {},
   "source": [
    "Для минимизации этой функции воспользуемся обычным способом математического анализа - приравняем производную к 0 и найдем решение.\n",
    "\n",
    "$\\frac{∂f(X,y,β)}{∂β} = \\frac{∂(y^T y - y^T X β - β^T X^T y +  β^T X^T X β)}{∂β} = \\frac{∂(y^T y - 2 β^T X^T y +  β^T X^T X β)}{∂β} $\n",
    "\n",
    "*Примечание: $y^T X β$ и $β^T X^T y$ - числа, т.о. эти выражения можно безболезненно транспонировать => $(y^T X β)^T = (X β)^T y =  β^T X^T y$*\n",
    "\n",
    "Производные слагаемых, которое не зависят от $β$ равны 0.\n",
    "\n",
    "* $f(x) = x^T A x$\n",
    "    - $f'(x) = 2Ax$\n",
    "    \n",
    "    \n",
    "* $f(x) = x^T A$\n",
    "    - $f'(x) = A$\n",
    " \n",
    "\n",
    "*Принципы дифференцирования по вектору см. The Matrix Cookbook*\n"
   ]
  },
  {
   "cell_type": "markdown",
   "id": "2f60c85a",
   "metadata": {},
   "source": [
    "Далее:\n",
    "\n",
    "$\\frac{∂f(X,y,β)}{∂β} =  - 2 X^T y  +  2 X^T X β = 0$\n",
    "\n",
    "<br>\n",
    "\n",
    "$X^T X β =  X^T y$\n",
    "\n",
    "\n",
    "Что бы выразить $β$ - умножаем правую и левую чать уравнения на обратную матрицу ($(X^T X)^{-1}$) к матрице $X^T X$:\n",
    "\n",
    "\n",
    "$(X^T X)^{-1} X^T X β =  (X^T X)^{-1} X^T y $\n",
    "\n"
   ]
  },
  {
   "cell_type": "markdown",
   "id": "c531c3e0",
   "metadata": {},
   "source": [
    "$β =  (X^T X)^{-1} X^T y $\n",
    "\n",
    "\n",
    "**Это основное уравнение коэффициентов линейной регрессии**\n",
    "___\n",
    "\n",
    "Где $y$, $\\beta$, $ε$ - вектора, $X$ - матрица"
   ]
  },
  {
   "cell_type": "markdown",
   "id": "979808fd",
   "metadata": {
    "slideshow": {
     "slide_type": "slide"
    }
   },
   "source": [
    "**Применение QR разложения для нахождения решения по методу наименьших квадратов**\n",
    "\n",
    "**QR разложение**: матрица $A$ размера $m×n$ с комплексными элементами может быть представлена в виде: $A = QR$, где $Q$ —  матрица размера $m×n$ с ортонормированными столбцами (или унитарная (квадратная матрица с комплекными элементами) матрица размера $m×m$), a $R$ — верхнетреугольная матрица размера $n×n$. \n",
    "\n",
    "В частном случае, когда матрица $A$ состоит из вещественных чисел, $Q$ является ортогональной матрицей (то есть $Q^TQ = E$, где $E$ - единичная матрица.\n",
    "\n"
   ]
  },
  {
   "cell_type": "markdown",
   "id": "9ce38066",
   "metadata": {
    "slideshow": {
     "slide_type": "slide"
    }
   },
   "source": [
    "Для решения в уравнении  $X^T X β =  X^T y $ можно заменить $X = QR$.\n",
    "\n",
    "\n",
    "Тогда с учетом свойства: $Q^TQ = E$\n",
    "\n",
    "\n",
    "$(QR)^T QR β =  (QR)^T y $\n",
    "\n",
    "\n",
    "$R^TQ^TQR β =  R^TQ^T y $\n",
    "\n",
    "Выражение урощается до:\n",
    "\n",
    "$R^TER β =  R^TQ^T y $\n",
    "\n",
    "И соответственно:\n",
    "\n",
    "$R β = Q^T y$\n",
    "\n",
    "Система еще не решена окончательно, т.к. $β$ не выражено явно.\n",
    "\n",
    "\n",
    "Пусть $ν = Q^T y$, тогда решение системы $R β = ν$ - тривиально т.к. $R$ - верхнетреугольная матрица.\n",
    "\n",
    "\n",
    "или также как в предыдущем случае с помощью умножения обеих частей на обратную матрицу:\n",
    "\n",
    "$β = R^{-1}Q^T y$\n"
   ]
  },
  {
   "cell_type": "markdown",
   "id": "e1ca08e6",
   "metadata": {
    "slideshow": {
     "slide_type": "slide"
    }
   },
   "source": [
    "Возможен и другой способ, при котором выполняется замена $X^T X = QR$:\n",
    "\n",
    "$X^T X β =  X^T y $\n",
    "\n",
    "$Q R β =  X^T y $\n",
    "\n",
    "$R β =  Q^T X^T y $"
   ]
  },
  {
   "cell_type": "markdown",
   "id": "c6c2a3f7",
   "metadata": {},
   "source": [
    "**Параметры вариации:**\n",
    "\n",
    "* Вектор ошибок:\n",
    "\n",
    "$ε = y - \\hat{y} = y - X · β$\n",
    "\n",
    "\n",
    "* Сумма квадратов:\n",
    "\n",
    "$SS = <ε, ε>$\n",
    "\n",
    "* \"Остаточная\" вариация / вариация модели (Deviance):\n",
    "\n",
    "$σ² = \\frac{SS}{N  - rank(X)}$\n",
    "\n",
    "* Вариационно-ковариационная матрица $β$: \n",
    "\n",
    "$cov(β|X) = σ² (X^T · X)^{-1}$\n",
    "\n",
    "* Стандартное отклонение $β$:\n",
    "\n",
    "$SD_β = \\sqrt{diag(cov(β|X))}$\n",
    "\n"
   ]
  },
  {
   "cell_type": "code",
   "execution_count": 19,
   "id": "f57ad95f",
   "metadata": {
    "slideshow": {
     "slide_type": "slide"
    }
   },
   "outputs": [
    {
     "data": {
      "text/html": [
       "<div><div style = \"float: left;\"><span>3×3 DataFrame</span></div><div style = \"clear: both;\"></div></div><div class = \"data-frame\" style = \"overflow-x: scroll;\"><table class = \"data-frame\" style = \"margin-bottom: 6px;\"><thead><tr class = \"header\"><th class = \"rowNumber\" style = \"font-weight: bold; text-align: right;\">Row</th><th style = \"text-align: left;\">Strip</th><th style = \"text-align: left;\">conc</th><th style = \"text-align: left;\">length</th></tr><tr class = \"subheader headerLastRow\"><th class = \"rowNumber\" style = \"font-weight: bold; text-align: right;\"></th><th title = \"String3\" style = \"text-align: left;\">String3</th><th title = \"Float64\" style = \"text-align: left;\">Float64</th><th title = \"Float64\" style = \"text-align: left;\">Float64</th></tr></thead><tbody><tr><td class = \"rowNumber\" style = \"font-weight: bold; text-align: right;\">1</td><td style = \"text-align: left;\">S01</td><td style = \"text-align: right;\">2.2</td><td style = \"text-align: right;\">15.8</td></tr><tr><td class = \"rowNumber\" style = \"font-weight: bold; text-align: right;\">2</td><td style = \"text-align: left;\">S01</td><td style = \"text-align: right;\">4.4</td><td style = \"text-align: right;\">20.8</td></tr><tr><td class = \"rowNumber\" style = \"font-weight: bold; text-align: right;\">3</td><td style = \"text-align: left;\">S01</td><td style = \"text-align: right;\">6.6</td><td style = \"text-align: right;\">22.6</td></tr></tbody></table></div>"
      ],
      "text/latex": [
       "\\begin{tabular}{r|ccc}\n",
       "\t& Strip & conc & length\\\\\n",
       "\t\\hline\n",
       "\t& String3 & Float64 & Float64\\\\\n",
       "\t\\hline\n",
       "\t1 & S01 & 2.2 & 15.8 \\\\\n",
       "\t2 & S01 & 4.4 & 20.8 \\\\\n",
       "\t3 & S01 & 6.6 & 22.6 \\\\\n",
       "\\end{tabular}\n"
      ],
      "text/plain": [
       "\u001b[1m3×3 DataFrame\u001b[0m\n",
       "\u001b[1m Row \u001b[0m│\u001b[1m Strip   \u001b[0m\u001b[1m conc    \u001b[0m\u001b[1m length  \u001b[0m\n",
       "     │\u001b[90m String3 \u001b[0m\u001b[90m Float64 \u001b[0m\u001b[90m Float64 \u001b[0m\n",
       "─────┼───────────────────────────\n",
       "   1 │ S01          2.2     15.8\n",
       "   2 │ S01          4.4     20.8\n",
       "   3 │ S01          6.6     22.6"
      ]
     },
     "execution_count": 19,
     "metadata": {},
     "output_type": "execute_result"
    }
   ],
   "source": [
    "using DataFrames, CSV, GLM\n",
    "\n",
    "df = download(\"https://raw.githubusercontent.com/PharmCat/edu/main/csv/muscule.csv\") |> CSV.File |> DataFrame\n",
    "\n",
    "df[1:3, :]"
   ]
  },
  {
   "cell_type": "code",
   "execution_count": 20,
   "id": "8bce969b",
   "metadata": {},
   "outputs": [
    {
     "data": {
      "text/html": [
       "<div><div style = \"float: left;\"><span>60×3 DataFrame</span></div><div style = \"float: right;\"><span style = \"font-style: italic;\">35 rows omitted</span></div><div style = \"clear: both;\"></div></div><div class = \"data-frame\" style = \"overflow-x: scroll;\"><table class = \"data-frame\" style = \"margin-bottom: 6px;\"><thead><tr class = \"header\"><th class = \"rowNumber\" style = \"font-weight: bold; text-align: right;\">Row</th><th style = \"text-align: left;\">Strip</th><th style = \"text-align: left;\">conc</th><th style = \"text-align: left;\">length</th></tr><tr class = \"subheader headerLastRow\"><th class = \"rowNumber\" style = \"font-weight: bold; text-align: right;\"></th><th title = \"String3\" style = \"text-align: left;\">String3</th><th title = \"Float64\" style = \"text-align: left;\">Float64</th><th title = \"Float64\" style = \"text-align: left;\">Float64</th></tr></thead><tbody><tr><td class = \"rowNumber\" style = \"font-weight: bold; text-align: right;\">1</td><td style = \"text-align: left;\">S01</td><td style = \"text-align: right;\">2.2</td><td style = \"text-align: right;\">15.8</td></tr><tr><td class = \"rowNumber\" style = \"font-weight: bold; text-align: right;\">2</td><td style = \"text-align: left;\">S01</td><td style = \"text-align: right;\">4.4</td><td style = \"text-align: right;\">20.8</td></tr><tr><td class = \"rowNumber\" style = \"font-weight: bold; text-align: right;\">3</td><td style = \"text-align: left;\">S01</td><td style = \"text-align: right;\">6.6</td><td style = \"text-align: right;\">22.6</td></tr><tr><td class = \"rowNumber\" style = \"font-weight: bold; text-align: right;\">4</td><td style = \"text-align: left;\">S01</td><td style = \"text-align: right;\">8.8</td><td style = \"text-align: right;\">23.8</td></tr><tr><td class = \"rowNumber\" style = \"font-weight: bold; text-align: right;\">5</td><td style = \"text-align: left;\">S02</td><td style = \"text-align: right;\">2.2</td><td style = \"text-align: right;\">20.6</td></tr><tr><td class = \"rowNumber\" style = \"font-weight: bold; text-align: right;\">6</td><td style = \"text-align: left;\">S02</td><td style = \"text-align: right;\">4.4</td><td style = \"text-align: right;\">26.8</td></tr><tr><td class = \"rowNumber\" style = \"font-weight: bold; text-align: right;\">7</td><td style = \"text-align: left;\">S02</td><td style = \"text-align: right;\">6.6</td><td style = \"text-align: right;\">28.4</td></tr><tr><td class = \"rowNumber\" style = \"font-weight: bold; text-align: right;\">8</td><td style = \"text-align: left;\">S02</td><td style = \"text-align: right;\">8.8</td><td style = \"text-align: right;\">27.0</td></tr><tr><td class = \"rowNumber\" style = \"font-weight: bold; text-align: right;\">9</td><td style = \"text-align: left;\">S03</td><td style = \"text-align: right;\">0.55</td><td style = \"text-align: right;\">7.2</td></tr><tr><td class = \"rowNumber\" style = \"font-weight: bold; text-align: right;\">10</td><td style = \"text-align: left;\">S03</td><td style = \"text-align: right;\">1.1</td><td style = \"text-align: right;\">15.4</td></tr><tr><td class = \"rowNumber\" style = \"font-weight: bold; text-align: right;\">11</td><td style = \"text-align: left;\">S03</td><td style = \"text-align: right;\">2.2</td><td style = \"text-align: right;\">22.8</td></tr><tr><td class = \"rowNumber\" style = \"font-weight: bold; text-align: right;\">12</td><td style = \"text-align: left;\">S03</td><td style = \"text-align: right;\">4.4</td><td style = \"text-align: right;\">27.4</td></tr><tr><td class = \"rowNumber\" style = \"font-weight: bold; text-align: right;\">13</td><td style = \"text-align: left;\">S04</td><td style = \"text-align: right;\">0.55</td><td style = \"text-align: right;\">2.2</td></tr><tr><td style = \"text-align: right;\">&vellip;</td><td style = \"text-align: right;\">&vellip;</td><td style = \"text-align: right;\">&vellip;</td><td style = \"text-align: right;\">&vellip;</td></tr><tr><td class = \"rowNumber\" style = \"font-weight: bold; text-align: right;\">49</td><td style = \"text-align: left;\">S18</td><td style = \"text-align: right;\">2.2</td><td style = \"text-align: right;\">15.4</td></tr><tr><td class = \"rowNumber\" style = \"font-weight: bold; text-align: right;\">50</td><td style = \"text-align: left;\">S18</td><td style = \"text-align: right;\">4.4</td><td style = \"text-align: right;\">19.0</td></tr><tr><td class = \"rowNumber\" style = \"font-weight: bold; text-align: right;\">51</td><td style = \"text-align: left;\">S18</td><td style = \"text-align: right;\">6.6</td><td style = \"text-align: right;\">19.4</td></tr><tr><td class = \"rowNumber\" style = \"font-weight: bold; text-align: right;\">52</td><td style = \"text-align: left;\">S19</td><td style = \"text-align: right;\">2.2</td><td style = \"text-align: right;\">29.0</td></tr><tr><td class = \"rowNumber\" style = \"font-weight: bold; text-align: right;\">53</td><td style = \"text-align: left;\">S19</td><td style = \"text-align: right;\">4.4</td><td style = \"text-align: right;\">34.0</td></tr><tr><td class = \"rowNumber\" style = \"font-weight: bold; text-align: right;\">54</td><td style = \"text-align: left;\">S19</td><td style = \"text-align: right;\">6.6</td><td style = \"text-align: right;\">37.0</td></tr><tr><td class = \"rowNumber\" style = \"font-weight: bold; text-align: right;\">55</td><td style = \"text-align: left;\">S20</td><td style = \"text-align: right;\">2.2</td><td style = \"text-align: right;\">22.2</td></tr><tr><td class = \"rowNumber\" style = \"font-weight: bold; text-align: right;\">56</td><td style = \"text-align: left;\">S20</td><td style = \"text-align: right;\">4.4</td><td style = \"text-align: right;\">29.0</td></tr><tr><td class = \"rowNumber\" style = \"font-weight: bold; text-align: right;\">57</td><td style = \"text-align: left;\">S20</td><td style = \"text-align: right;\">6.6</td><td style = \"text-align: right;\">32.2</td></tr><tr><td class = \"rowNumber\" style = \"font-weight: bold; text-align: right;\">58</td><td style = \"text-align: left;\">S21</td><td style = \"text-align: right;\">2.2</td><td style = \"text-align: right;\">23.0</td></tr><tr><td class = \"rowNumber\" style = \"font-weight: bold; text-align: right;\">59</td><td style = \"text-align: left;\">S21</td><td style = \"text-align: right;\">4.4</td><td style = \"text-align: right;\">27.4</td></tr><tr><td class = \"rowNumber\" style = \"font-weight: bold; text-align: right;\">60</td><td style = \"text-align: left;\">S21</td><td style = \"text-align: right;\">6.6</td><td style = \"text-align: right;\">30.4</td></tr></tbody></table></div>"
      ],
      "text/latex": [
       "\\begin{tabular}{r|ccc}\n",
       "\t& Strip & conc & length\\\\\n",
       "\t\\hline\n",
       "\t& String3 & Float64 & Float64\\\\\n",
       "\t\\hline\n",
       "\t1 & S01 & 2.2 & 15.8 \\\\\n",
       "\t2 & S01 & 4.4 & 20.8 \\\\\n",
       "\t3 & S01 & 6.6 & 22.6 \\\\\n",
       "\t4 & S01 & 8.8 & 23.8 \\\\\n",
       "\t5 & S02 & 2.2 & 20.6 \\\\\n",
       "\t6 & S02 & 4.4 & 26.8 \\\\\n",
       "\t7 & S02 & 6.6 & 28.4 \\\\\n",
       "\t8 & S02 & 8.8 & 27.0 \\\\\n",
       "\t9 & S03 & 0.55 & 7.2 \\\\\n",
       "\t10 & S03 & 1.1 & 15.4 \\\\\n",
       "\t11 & S03 & 2.2 & 22.8 \\\\\n",
       "\t12 & S03 & 4.4 & 27.4 \\\\\n",
       "\t13 & S04 & 0.55 & 2.2 \\\\\n",
       "\t14 & S04 & 1.1 & 9.0 \\\\\n",
       "\t15 & S04 & 2.2 & 16.6 \\\\\n",
       "\t16 & S05 & 0.55 & 2.0 \\\\\n",
       "\t17 & S05 & 1.1 & 6.0 \\\\\n",
       "\t18 & S05 & 2.2 & 15.2 \\\\\n",
       "\t19 & S06 & 0.55 & 5.0 \\\\\n",
       "\t20 & S06 & 1.1 & 9.2 \\\\\n",
       "\t21 & S06 & 2.2 & 14.2 \\\\\n",
       "\t22 & S07 & 2.2 & 28.0 \\\\\n",
       "\t23 & S07 & 4.4 & 32.0 \\\\\n",
       "\t24 & S08 & 0.55 & 5.6 \\\\\n",
       "\t25 & S08 & 2.2 & 26.0 \\\\\n",
       "\t26 & S09 & 1.1 & 15.4 \\\\\n",
       "\t27 & S09 & 2.2 & 23.2 \\\\\n",
       "\t28 & S10 & 0.55 & 11.8 \\\\\n",
       "\t29 & S10 & 2.2 & 29.0 \\\\\n",
       "\t30 & S11 & 0.55 & 11.0 \\\\\n",
       "\t$\\dots$ & $\\dots$ & $\\dots$ & $\\dots$ \\\\\n",
       "\\end{tabular}\n"
      ],
      "text/plain": [
       "\u001b[1m60×3 DataFrame\u001b[0m\n",
       "\u001b[1m Row \u001b[0m│\u001b[1m Strip   \u001b[0m\u001b[1m conc    \u001b[0m\u001b[1m length  \u001b[0m\n",
       "     │\u001b[90m String3 \u001b[0m\u001b[90m Float64 \u001b[0m\u001b[90m Float64 \u001b[0m\n",
       "─────┼───────────────────────────\n",
       "   1 │ S01         2.2      15.8\n",
       "   2 │ S01         4.4      20.8\n",
       "   3 │ S01         6.6      22.6\n",
       "   4 │ S01         8.8      23.8\n",
       "   5 │ S02         2.2      20.6\n",
       "   6 │ S02         4.4      26.8\n",
       "   7 │ S02         6.6      28.4\n",
       "   8 │ S02         8.8      27.0\n",
       "   9 │ S03         0.55      7.2\n",
       "  10 │ S03         1.1      15.4\n",
       "  11 │ S03         2.2      22.8\n",
       "  ⋮  │    ⋮        ⋮        ⋮\n",
       "  51 │ S18         6.6      19.4\n",
       "  52 │ S19         2.2      29.0\n",
       "  53 │ S19         4.4      34.0\n",
       "  54 │ S19         6.6      37.0\n",
       "  55 │ S20         2.2      22.2\n",
       "  56 │ S20         4.4      29.0\n",
       "  57 │ S20         6.6      32.2\n",
       "  58 │ S21         2.2      23.0\n",
       "  59 │ S21         4.4      27.4\n",
       "  60 │ S21         6.6      30.4\n",
       "\u001b[36m                  39 rows omitted\u001b[0m"
      ]
     },
     "execution_count": 20,
     "metadata": {},
     "output_type": "execute_result"
    }
   ],
   "source": [
    "df"
   ]
  },
  {
   "cell_type": "code",
   "execution_count": 2,
   "id": "cbcd35a0",
   "metadata": {
    "slideshow": {
     "slide_type": "slide"
    }
   },
   "outputs": [
    {
     "data": {
      "text/plain": [
       "StatsModels.TableRegressionModel{LinearModel{GLM.LmResp{Vector{Float64}}, GLM.DensePredChol{Float64, LinearAlgebra.CholeskyPivoted{Float64, Matrix{Float64}, Vector{Int64}}}}, Matrix{Float64}}\n",
       "\n",
       "length ~ 1 + conc\n",
       "\n",
       "Coefficients:\n",
       "──────────────────────────────────────────────────────────────────────\n",
       "               Coef.  Std. Error     t  Pr(>|t|)  Lower 95%  Upper 95%\n",
       "──────────────────────────────────────────────────────────────────────\n",
       "(Intercept)  13.533     1.42292   9.51    <1e-12   10.6847     16.3813\n",
       "conc          2.4559    0.347849  7.06    <1e-08    1.75961     3.1522\n",
       "──────────────────────────────────────────────────────────────────────"
      ]
     },
     "execution_count": 2,
     "metadata": {},
     "output_type": "execute_result"
    }
   ],
   "source": [
    "\n",
    "ols = lm(@formula(length ~ conc), df)"
   ]
  },
  {
   "cell_type": "code",
   "execution_count": 3,
   "id": "58a61a52",
   "metadata": {
    "slideshow": {
     "slide_type": "slide"
    }
   },
   "outputs": [
    {
     "data": {
      "image/svg+xml": [
       "<?xml version=\"1.0\" encoding=\"utf-8\"?>\n",
       "<svg xmlns=\"http://www.w3.org/2000/svg\" xmlns:xlink=\"http://www.w3.org/1999/xlink\" width=\"600\" height=\"400\" viewBox=\"0 0 2400 1600\">\n",
       "<defs>\n",
       "  <clipPath id=\"clip780\">\n",
       "    <rect x=\"0\" y=\"0\" width=\"2400\" height=\"1600\"/>\n",
       "  </clipPath>\n",
       "</defs>\n",
       "<path clip-path=\"url(#clip780)\" d=\"M0 1600 L2400 1600 L2400 0 L0 0  Z\" fill=\"#ffffff\" fill-rule=\"evenodd\" fill-opacity=\"1\"/>\n",
       "<defs>\n",
       "  <clipPath id=\"clip781\">\n",
       "    <rect x=\"480\" y=\"0\" width=\"1681\" height=\"1600\"/>\n",
       "  </clipPath>\n",
       "</defs>\n",
       "<path clip-path=\"url(#clip780)\" d=\"M140.696 1486.45 L2352.76 1486.45 L2352.76 47.2441 L140.696 47.2441  Z\" fill=\"#ffffff\" fill-rule=\"evenodd\" fill-opacity=\"1\"/>\n",
       "<defs>\n",
       "  <clipPath id=\"clip782\">\n",
       "    <rect x=\"140\" y=\"47\" width=\"2213\" height=\"1440\"/>\n",
       "  </clipPath>\n",
       "</defs>\n",
       "<polyline clip-path=\"url(#clip782)\" style=\"stroke:#000000; stroke-linecap:round; stroke-linejoin:round; stroke-width:2; stroke-opacity:0.1; fill:none\" points=\"570.081,1486.45 570.081,47.2441 \"/>\n",
       "<polyline clip-path=\"url(#clip782)\" style=\"stroke:#000000; stroke-linecap:round; stroke-linejoin:round; stroke-width:2; stroke-opacity:0.1; fill:none\" points=\"1075.98,1486.45 1075.98,47.2441 \"/>\n",
       "<polyline clip-path=\"url(#clip782)\" style=\"stroke:#000000; stroke-linecap:round; stroke-linejoin:round; stroke-width:2; stroke-opacity:0.1; fill:none\" points=\"1581.89,1486.45 1581.89,47.2441 \"/>\n",
       "<polyline clip-path=\"url(#clip782)\" style=\"stroke:#000000; stroke-linecap:round; stroke-linejoin:round; stroke-width:2; stroke-opacity:0.1; fill:none\" points=\"2087.79,1486.45 2087.79,47.2441 \"/>\n",
       "<polyline clip-path=\"url(#clip780)\" style=\"stroke:#000000; stroke-linecap:round; stroke-linejoin:round; stroke-width:4; stroke-opacity:1; fill:none\" points=\"140.696,1486.45 2352.76,1486.45 \"/>\n",
       "<polyline clip-path=\"url(#clip780)\" style=\"stroke:#000000; stroke-linecap:round; stroke-linejoin:round; stroke-width:4; stroke-opacity:1; fill:none\" points=\"570.081,1486.45 570.081,1467.55 \"/>\n",
       "<polyline clip-path=\"url(#clip780)\" style=\"stroke:#000000; stroke-linecap:round; stroke-linejoin:round; stroke-width:4; stroke-opacity:1; fill:none\" points=\"1075.98,1486.45 1075.98,1467.55 \"/>\n",
       "<polyline clip-path=\"url(#clip780)\" style=\"stroke:#000000; stroke-linecap:round; stroke-linejoin:round; stroke-width:4; stroke-opacity:1; fill:none\" points=\"1581.89,1486.45 1581.89,1467.55 \"/>\n",
       "<polyline clip-path=\"url(#clip780)\" style=\"stroke:#000000; stroke-linecap:round; stroke-linejoin:round; stroke-width:4; stroke-opacity:1; fill:none\" points=\"2087.79,1486.45 2087.79,1467.55 \"/>\n",
       "<path clip-path=\"url(#clip780)\" d=\"M564.733 1544.91 L581.053 1544.91 L581.053 1548.85 L559.108 1548.85 L559.108 1544.91 Q561.77 1542.16 566.354 1537.53 Q570.96 1532.88 572.141 1531.53 Q574.386 1529.01 575.266 1527.27 Q576.169 1525.51 576.169 1523.82 Q576.169 1521.07 574.224 1519.33 Q572.303 1517.6 569.201 1517.6 Q567.002 1517.6 564.548 1518.36 Q562.118 1519.13 559.34 1520.68 L559.34 1515.95 Q562.164 1514.82 564.618 1514.24 Q567.071 1513.66 569.108 1513.66 Q574.479 1513.66 577.673 1516.35 Q580.868 1519.03 580.868 1523.52 Q580.868 1525.65 580.057 1527.57 Q579.27 1529.47 577.164 1532.07 Q576.585 1532.74 573.483 1535.95 Q570.382 1539.15 564.733 1544.91 Z\" fill=\"#000000\" fill-rule=\"nonzero\" fill-opacity=\"1\" /><path clip-path=\"url(#clip780)\" d=\"M1078.99 1518.36 L1067.19 1536.81 L1078.99 1536.81 L1078.99 1518.36 M1077.77 1514.29 L1083.65 1514.29 L1083.65 1536.81 L1088.58 1536.81 L1088.58 1540.7 L1083.65 1540.7 L1083.65 1548.85 L1078.99 1548.85 L1078.99 1540.7 L1063.39 1540.7 L1063.39 1536.19 L1077.77 1514.29 Z\" fill=\"#000000\" fill-rule=\"nonzero\" fill-opacity=\"1\" /><path clip-path=\"url(#clip780)\" d=\"M1582.29 1529.7 Q1579.14 1529.7 1577.29 1531.86 Q1575.46 1534.01 1575.46 1537.76 Q1575.46 1541.49 1577.29 1543.66 Q1579.14 1545.82 1582.29 1545.82 Q1585.44 1545.82 1587.27 1543.66 Q1589.12 1541.49 1589.12 1537.76 Q1589.12 1534.01 1587.27 1531.86 Q1585.44 1529.7 1582.29 1529.7 M1591.57 1515.05 L1591.57 1519.31 Q1589.81 1518.48 1588.01 1518.04 Q1586.23 1517.6 1584.47 1517.6 Q1579.84 1517.6 1577.38 1520.72 Q1574.95 1523.85 1574.61 1530.17 Q1575.97 1528.15 1578.03 1527.09 Q1580.09 1526 1582.57 1526 Q1587.78 1526 1590.79 1529.17 Q1593.82 1532.32 1593.82 1537.76 Q1593.82 1543.08 1590.67 1546.3 Q1587.52 1549.52 1582.29 1549.52 Q1576.3 1549.52 1573.12 1544.94 Q1569.95 1540.33 1569.95 1531.6 Q1569.95 1523.41 1573.84 1518.55 Q1577.73 1513.66 1584.28 1513.66 Q1586.04 1513.66 1587.82 1514.01 Q1589.63 1514.36 1591.57 1515.05 Z\" fill=\"#000000\" fill-rule=\"nonzero\" fill-opacity=\"1\" /><path clip-path=\"url(#clip780)\" d=\"M2087.79 1532.44 Q2084.46 1532.44 2082.53 1534.22 Q2080.64 1536 2080.64 1539.13 Q2080.64 1542.25 2082.53 1544.03 Q2084.46 1545.82 2087.79 1545.82 Q2091.12 1545.82 2093.04 1544.03 Q2094.97 1542.23 2094.97 1539.13 Q2094.97 1536 2093.04 1534.22 Q2091.15 1532.44 2087.79 1532.44 M2083.11 1530.45 Q2080.1 1529.7 2078.41 1527.64 Q2076.75 1525.58 2076.75 1522.62 Q2076.75 1518.48 2079.69 1516.07 Q2082.65 1513.66 2087.79 1513.66 Q2092.95 1513.66 2095.89 1516.07 Q2098.83 1518.48 2098.83 1522.62 Q2098.83 1525.58 2097.14 1527.64 Q2095.47 1529.7 2092.49 1530.45 Q2095.87 1531.23 2097.74 1533.52 Q2099.64 1535.82 2099.64 1539.13 Q2099.64 1544.15 2096.56 1546.83 Q2093.51 1549.52 2087.79 1549.52 Q2082.07 1549.52 2078.99 1546.83 Q2075.94 1544.15 2075.94 1539.13 Q2075.94 1535.82 2077.84 1533.52 Q2079.73 1531.23 2083.11 1530.45 M2081.4 1523.06 Q2081.4 1525.75 2083.07 1527.25 Q2084.76 1528.76 2087.79 1528.76 Q2090.8 1528.76 2092.49 1527.25 Q2094.2 1525.75 2094.2 1523.06 Q2094.2 1520.38 2092.49 1518.87 Q2090.8 1517.37 2087.79 1517.37 Q2084.76 1517.37 2083.07 1518.87 Q2081.4 1520.38 2081.4 1523.06 Z\" fill=\"#000000\" fill-rule=\"nonzero\" fill-opacity=\"1\" /><polyline clip-path=\"url(#clip782)\" style=\"stroke:#000000; stroke-linecap:round; stroke-linejoin:round; stroke-width:2; stroke-opacity:0.1; fill:none\" points=\"140.696,1329.34 2352.76,1329.34 \"/>\n",
       "<polyline clip-path=\"url(#clip782)\" style=\"stroke:#000000; stroke-linecap:round; stroke-linejoin:round; stroke-width:2; stroke-opacity:0.1; fill:none\" points=\"140.696,1135.38 2352.76,1135.38 \"/>\n",
       "<polyline clip-path=\"url(#clip782)\" style=\"stroke:#000000; stroke-linecap:round; stroke-linejoin:round; stroke-width:2; stroke-opacity:0.1; fill:none\" points=\"140.696,941.412 2352.76,941.412 \"/>\n",
       "<polyline clip-path=\"url(#clip782)\" style=\"stroke:#000000; stroke-linecap:round; stroke-linejoin:round; stroke-width:2; stroke-opacity:0.1; fill:none\" points=\"140.696,747.45 2352.76,747.45 \"/>\n",
       "<polyline clip-path=\"url(#clip782)\" style=\"stroke:#000000; stroke-linecap:round; stroke-linejoin:round; stroke-width:2; stroke-opacity:0.1; fill:none\" points=\"140.696,553.487 2352.76,553.487 \"/>\n",
       "<polyline clip-path=\"url(#clip782)\" style=\"stroke:#000000; stroke-linecap:round; stroke-linejoin:round; stroke-width:2; stroke-opacity:0.1; fill:none\" points=\"140.696,359.524 2352.76,359.524 \"/>\n",
       "<polyline clip-path=\"url(#clip782)\" style=\"stroke:#000000; stroke-linecap:round; stroke-linejoin:round; stroke-width:2; stroke-opacity:0.1; fill:none\" points=\"140.696,165.561 2352.76,165.561 \"/>\n",
       "<polyline clip-path=\"url(#clip780)\" style=\"stroke:#000000; stroke-linecap:round; stroke-linejoin:round; stroke-width:4; stroke-opacity:1; fill:none\" points=\"140.696,1486.45 140.696,47.2441 \"/>\n",
       "<polyline clip-path=\"url(#clip780)\" style=\"stroke:#000000; stroke-linecap:round; stroke-linejoin:round; stroke-width:4; stroke-opacity:1; fill:none\" points=\"140.696,1329.34 159.593,1329.34 \"/>\n",
       "<polyline clip-path=\"url(#clip780)\" style=\"stroke:#000000; stroke-linecap:round; stroke-linejoin:round; stroke-width:4; stroke-opacity:1; fill:none\" points=\"140.696,1135.38 159.593,1135.38 \"/>\n",
       "<polyline clip-path=\"url(#clip780)\" style=\"stroke:#000000; stroke-linecap:round; stroke-linejoin:round; stroke-width:4; stroke-opacity:1; fill:none\" points=\"140.696,941.412 159.593,941.412 \"/>\n",
       "<polyline clip-path=\"url(#clip780)\" style=\"stroke:#000000; stroke-linecap:round; stroke-linejoin:round; stroke-width:4; stroke-opacity:1; fill:none\" points=\"140.696,747.45 159.593,747.45 \"/>\n",
       "<polyline clip-path=\"url(#clip780)\" style=\"stroke:#000000; stroke-linecap:round; stroke-linejoin:round; stroke-width:4; stroke-opacity:1; fill:none\" points=\"140.696,553.487 159.593,553.487 \"/>\n",
       "<polyline clip-path=\"url(#clip780)\" style=\"stroke:#000000; stroke-linecap:round; stroke-linejoin:round; stroke-width:4; stroke-opacity:1; fill:none\" points=\"140.696,359.524 159.593,359.524 \"/>\n",
       "<polyline clip-path=\"url(#clip780)\" style=\"stroke:#000000; stroke-linecap:round; stroke-linejoin:round; stroke-width:4; stroke-opacity:1; fill:none\" points=\"140.696,165.561 159.593,165.561 \"/>\n",
       "<path clip-path=\"url(#clip780)\" d=\"M83.7929 1312.06 L102.149 1312.06 L102.149 1315.99 L88.0753 1315.99 L88.0753 1324.47 Q89.0938 1324.12 90.1123 1323.96 Q91.1308 1323.77 92.1493 1323.77 Q97.9363 1323.77 101.316 1326.94 Q104.696 1330.11 104.696 1335.53 Q104.696 1341.11 101.223 1344.21 Q97.7511 1347.29 91.4317 1347.29 Q89.2558 1347.29 86.9873 1346.92 Q84.7419 1346.55 82.3346 1345.81 L82.3346 1341.11 Q84.4179 1342.24 86.6401 1342.8 Q88.8623 1343.35 91.3391 1343.35 Q95.3437 1343.35 97.6817 1341.25 Q100.02 1339.14 100.02 1335.53 Q100.02 1331.92 97.6817 1329.81 Q95.3437 1327.71 91.3391 1327.71 Q89.4641 1327.71 87.5892 1328.12 Q85.7373 1328.54 83.7929 1329.42 L83.7929 1312.06 Z\" fill=\"#000000\" fill-rule=\"nonzero\" fill-opacity=\"1\" /><path clip-path=\"url(#clip780)\" d=\"M53.3995 1148.72 L61.0384 1148.72 L61.0384 1122.35 L52.7282 1124.02 L52.7282 1119.76 L60.9921 1118.1 L65.668 1118.1 L65.668 1148.72 L73.3068 1148.72 L73.3068 1152.66 L53.3995 1152.66 L53.3995 1148.72 Z\" fill=\"#000000\" fill-rule=\"nonzero\" fill-opacity=\"1\" /><path clip-path=\"url(#clip780)\" d=\"M92.7512 1121.17 Q89.1401 1121.17 87.3114 1124.74 Q85.5058 1128.28 85.5058 1135.41 Q85.5058 1142.52 87.3114 1146.08 Q89.1401 1149.62 92.7512 1149.62 Q96.3854 1149.62 98.1909 1146.08 Q100.02 1142.52 100.02 1135.41 Q100.02 1128.28 98.1909 1124.74 Q96.3854 1121.17 92.7512 1121.17 M92.7512 1117.47 Q98.5613 1117.47 101.617 1122.08 Q104.696 1126.66 104.696 1135.41 Q104.696 1144.14 101.617 1148.74 Q98.5613 1153.33 92.7512 1153.33 Q86.941 1153.33 83.8623 1148.74 Q80.8068 1144.14 80.8068 1135.41 Q80.8068 1126.66 83.8623 1122.08 Q86.941 1117.47 92.7512 1117.47 Z\" fill=\"#000000\" fill-rule=\"nonzero\" fill-opacity=\"1\" /><path clip-path=\"url(#clip780)\" d=\"M54.3949 954.757 L62.0337 954.757 L62.0337 928.392 L53.7236 930.058 L53.7236 925.799 L61.9874 924.132 L66.6633 924.132 L66.6633 954.757 L74.3022 954.757 L74.3022 958.692 L54.3949 958.692 L54.3949 954.757 Z\" fill=\"#000000\" fill-rule=\"nonzero\" fill-opacity=\"1\" /><path clip-path=\"url(#clip780)\" d=\"M83.7929 924.132 L102.149 924.132 L102.149 928.068 L88.0753 928.068 L88.0753 936.54 Q89.0938 936.193 90.1123 936.031 Q91.1308 935.845 92.1493 935.845 Q97.9363 935.845 101.316 939.017 Q104.696 942.188 104.696 947.605 Q104.696 953.183 101.223 956.285 Q97.7511 959.364 91.4317 959.364 Q89.2558 959.364 86.9873 958.993 Q84.7419 958.623 82.3346 957.882 L82.3346 953.183 Q84.4179 954.318 86.6401 954.873 Q88.8623 955.429 91.3391 955.429 Q95.3437 955.429 97.6817 953.322 Q100.02 951.216 100.02 947.605 Q100.02 943.993 97.6817 941.887 Q95.3437 939.781 91.3391 939.781 Q89.4641 939.781 87.5892 940.197 Q85.7373 940.614 83.7929 941.493 L83.7929 924.132 Z\" fill=\"#000000\" fill-rule=\"nonzero\" fill-opacity=\"1\" /><path clip-path=\"url(#clip780)\" d=\"M56.6171 760.795 L72.9365 760.795 L72.9365 764.73 L50.9921 764.73 L50.9921 760.795 Q53.6541 758.04 58.2375 753.41 Q62.8439 748.758 64.0245 747.415 Q66.2698 744.892 67.1494 743.156 Q68.0522 741.396 68.0522 739.707 Q68.0522 736.952 66.1078 735.216 Q64.1865 733.48 61.0847 733.48 Q58.8856 733.48 56.4319 734.244 Q54.0014 735.008 51.2236 736.559 L51.2236 731.836 Q54.0477 730.702 56.5014 730.123 Q58.955 729.545 60.9921 729.545 Q66.3624 729.545 69.5568 732.23 Q72.7513 734.915 72.7513 739.406 Q72.7513 741.535 71.9411 743.457 Q71.1541 745.355 69.0476 747.947 Q68.4689 748.619 65.367 751.836 Q62.2652 755.031 56.6171 760.795 Z\" fill=\"#000000\" fill-rule=\"nonzero\" fill-opacity=\"1\" /><path clip-path=\"url(#clip780)\" d=\"M92.7512 733.248 Q89.1401 733.248 87.3114 736.813 Q85.5058 740.355 85.5058 747.484 Q85.5058 754.591 87.3114 758.156 Q89.1401 761.697 92.7512 761.697 Q96.3854 761.697 98.1909 758.156 Q100.02 754.591 100.02 747.484 Q100.02 740.355 98.1909 736.813 Q96.3854 733.248 92.7512 733.248 M92.7512 729.545 Q98.5613 729.545 101.617 734.151 Q104.696 738.734 104.696 747.484 Q104.696 756.211 101.617 760.818 Q98.5613 765.401 92.7512 765.401 Q86.941 765.401 83.8623 760.818 Q80.8068 756.211 80.8068 747.484 Q80.8068 738.734 83.8623 734.151 Q86.941 729.545 92.7512 729.545 Z\" fill=\"#000000\" fill-rule=\"nonzero\" fill-opacity=\"1\" /><path clip-path=\"url(#clip780)\" d=\"M57.6125 566.832 L73.9318 566.832 L73.9318 570.767 L51.9875 570.767 L51.9875 566.832 Q54.6495 564.077 59.2328 559.448 Q63.8393 554.795 65.0198 553.452 Q67.2652 550.929 68.1448 549.193 Q69.0476 547.434 69.0476 545.744 Q69.0476 542.989 67.1032 541.253 Q65.1819 539.517 62.08 539.517 Q59.881 539.517 57.4273 540.281 Q54.9967 541.045 52.219 542.596 L52.219 537.874 Q55.043 536.739 57.4967 536.161 Q59.9504 535.582 61.9874 535.582 Q67.3578 535.582 70.5522 538.267 Q73.7466 540.952 73.7466 545.443 Q73.7466 547.573 72.9365 549.494 Q72.1494 551.392 70.0429 553.985 Q69.4642 554.656 66.3624 557.873 Q63.2606 561.068 57.6125 566.832 Z\" fill=\"#000000\" fill-rule=\"nonzero\" fill-opacity=\"1\" /><path clip-path=\"url(#clip780)\" d=\"M83.7929 536.207 L102.149 536.207 L102.149 540.142 L88.0753 540.142 L88.0753 548.614 Q89.0938 548.267 90.1123 548.105 Q91.1308 547.92 92.1493 547.92 Q97.9363 547.92 101.316 551.091 Q104.696 554.262 104.696 559.679 Q104.696 565.258 101.223 568.36 Q97.7511 571.438 91.4317 571.438 Q89.2558 571.438 86.9873 571.068 Q84.7419 570.697 82.3346 569.957 L82.3346 565.258 Q84.4179 566.392 86.6401 566.948 Q88.8623 567.503 91.3391 567.503 Q95.3437 567.503 97.6817 565.397 Q100.02 563.29 100.02 559.679 Q100.02 556.068 97.6817 553.961 Q95.3437 551.855 91.3391 551.855 Q89.4641 551.855 87.5892 552.272 Q85.7373 552.688 83.7929 553.568 L83.7929 536.207 Z\" fill=\"#000000\" fill-rule=\"nonzero\" fill-opacity=\"1\" /><path clip-path=\"url(#clip780)\" d=\"M66.7559 358.17 Q70.1124 358.888 71.9874 361.156 Q73.8855 363.425 73.8855 366.758 Q73.8855 371.874 70.367 374.675 Q66.8485 377.475 60.3671 377.475 Q58.1912 377.475 55.8764 377.036 Q53.5847 376.619 51.131 375.762 L51.131 371.249 Q53.0754 372.383 55.3903 372.962 Q57.7051 373.54 60.2282 373.54 Q64.6263 373.54 66.918 371.804 Q69.2328 370.068 69.2328 366.758 Q69.2328 363.702 67.08 361.989 Q64.9504 360.253 61.131 360.253 L57.1032 360.253 L57.1032 356.411 L61.3161 356.411 Q64.7652 356.411 66.5939 355.045 Q68.4226 353.656 68.4226 351.064 Q68.4226 348.402 66.5245 346.99 Q64.6495 345.554 61.131 345.554 Q59.2097 345.554 57.0106 345.971 Q54.8115 346.388 52.1727 347.267 L52.1727 343.101 Q54.8347 342.36 57.1495 341.99 Q59.4875 341.619 61.5476 341.619 Q66.8717 341.619 69.9735 344.05 Q73.0753 346.457 73.0753 350.577 Q73.0753 353.448 71.4318 355.439 Q69.7883 357.406 66.7559 358.17 Z\" fill=\"#000000\" fill-rule=\"nonzero\" fill-opacity=\"1\" /><path clip-path=\"url(#clip780)\" d=\"M92.7512 345.323 Q89.1401 345.323 87.3114 348.888 Q85.5058 352.429 85.5058 359.559 Q85.5058 366.665 87.3114 370.23 Q89.1401 373.772 92.7512 373.772 Q96.3854 373.772 98.1909 370.23 Q100.02 366.665 100.02 359.559 Q100.02 352.429 98.1909 348.888 Q96.3854 345.323 92.7512 345.323 M92.7512 341.619 Q98.5613 341.619 101.617 346.226 Q104.696 350.809 104.696 359.559 Q104.696 368.286 101.617 372.892 Q98.5613 377.475 92.7512 377.475 Q86.941 377.475 83.8623 372.892 Q80.8068 368.286 80.8068 359.559 Q80.8068 350.809 83.8623 346.226 Q86.941 341.619 92.7512 341.619 Z\" fill=\"#000000\" fill-rule=\"nonzero\" fill-opacity=\"1\" /><path clip-path=\"url(#clip780)\" d=\"M67.7513 164.207 Q71.1078 164.925 72.9827 167.193 Q74.8809 169.462 74.8809 172.795 Q74.8809 177.911 71.3624 180.712 Q67.8439 183.513 61.3624 183.513 Q59.1865 183.513 56.8717 183.073 Q54.5801 182.656 52.1264 181.8 L52.1264 177.286 Q54.0708 178.42 56.3856 178.999 Q58.7004 179.578 61.2236 179.578 Q65.6217 179.578 67.9133 177.841 Q70.2281 176.105 70.2281 172.795 Q70.2281 169.74 68.0754 168.027 Q65.9457 166.291 62.1263 166.291 L58.0986 166.291 L58.0986 162.448 L62.3115 162.448 Q65.7606 162.448 67.5893 161.082 Q69.418 159.693 69.418 157.101 Q69.418 154.439 67.5198 153.027 Q65.6448 151.592 62.1263 151.592 Q60.205 151.592 58.006 152.008 Q55.8069 152.425 53.168 153.305 L53.168 149.138 Q55.8301 148.397 58.1449 148.027 Q60.4828 147.656 62.543 147.656 Q67.867 147.656 70.9689 150.087 Q74.0707 152.494 74.0707 156.615 Q74.0707 159.485 72.4272 161.476 Q70.7837 163.443 67.7513 164.207 Z\" fill=\"#000000\" fill-rule=\"nonzero\" fill-opacity=\"1\" /><path clip-path=\"url(#clip780)\" d=\"M83.7929 148.281 L102.149 148.281 L102.149 152.217 L88.0753 152.217 L88.0753 160.689 Q89.0938 160.342 90.1123 160.179 Q91.1308 159.994 92.1493 159.994 Q97.9363 159.994 101.316 163.166 Q104.696 166.337 104.696 171.753 Q104.696 177.332 101.223 180.434 Q97.7511 183.513 91.4317 183.513 Q89.2558 183.513 86.9873 183.142 Q84.7419 182.772 82.3346 182.031 L82.3346 177.332 Q84.4179 178.466 86.6401 179.022 Q88.8623 179.578 91.3391 179.578 Q95.3437 179.578 97.6817 177.471 Q100.02 175.365 100.02 171.753 Q100.02 168.142 97.6817 166.036 Q95.3437 163.929 91.3391 163.929 Q89.4641 163.929 87.5892 164.346 Q85.7373 164.763 83.7929 165.642 L83.7929 148.281 Z\" fill=\"#000000\" fill-rule=\"nonzero\" fill-opacity=\"1\" /><line clip-path=\"url(#clip782)\" x1=\"620.671\" y1=\"910.378\" x2=\"620.671\" y2=\"898.378\" style=\"stroke:#009af9; stroke-width:3.2; stroke-opacity:0.5\"/>\n",
       "<line clip-path=\"url(#clip782)\" x1=\"620.671\" y1=\"910.378\" x2=\"608.671\" y2=\"910.378\" style=\"stroke:#009af9; stroke-width:3.2; stroke-opacity:0.5\"/>\n",
       "<line clip-path=\"url(#clip782)\" x1=\"620.671\" y1=\"910.378\" x2=\"620.671\" y2=\"922.378\" style=\"stroke:#009af9; stroke-width:3.2; stroke-opacity:0.5\"/>\n",
       "<line clip-path=\"url(#clip782)\" x1=\"620.671\" y1=\"910.378\" x2=\"632.671\" y2=\"910.378\" style=\"stroke:#009af9; stroke-width:3.2; stroke-opacity:0.5\"/>\n",
       "<line clip-path=\"url(#clip782)\" x1=\"1177.16\" y1=\"716.416\" x2=\"1177.16\" y2=\"704.416\" style=\"stroke:#009af9; stroke-width:3.2; stroke-opacity:0.5\"/>\n",
       "<line clip-path=\"url(#clip782)\" x1=\"1177.16\" y1=\"716.416\" x2=\"1165.16\" y2=\"716.416\" style=\"stroke:#009af9; stroke-width:3.2; stroke-opacity:0.5\"/>\n",
       "<line clip-path=\"url(#clip782)\" x1=\"1177.16\" y1=\"716.416\" x2=\"1177.16\" y2=\"728.416\" style=\"stroke:#009af9; stroke-width:3.2; stroke-opacity:0.5\"/>\n",
       "<line clip-path=\"url(#clip782)\" x1=\"1177.16\" y1=\"716.416\" x2=\"1189.16\" y2=\"716.416\" style=\"stroke:#009af9; stroke-width:3.2; stroke-opacity:0.5\"/>\n",
       "<line clip-path=\"url(#clip782)\" x1=\"1733.66\" y1=\"646.589\" x2=\"1733.66\" y2=\"634.589\" style=\"stroke:#009af9; stroke-width:3.2; stroke-opacity:0.5\"/>\n",
       "<line clip-path=\"url(#clip782)\" x1=\"1733.66\" y1=\"646.589\" x2=\"1721.66\" y2=\"646.589\" style=\"stroke:#009af9; stroke-width:3.2; stroke-opacity:0.5\"/>\n",
       "<line clip-path=\"url(#clip782)\" x1=\"1733.66\" y1=\"646.589\" x2=\"1733.66\" y2=\"658.589\" style=\"stroke:#009af9; stroke-width:3.2; stroke-opacity:0.5\"/>\n",
       "<line clip-path=\"url(#clip782)\" x1=\"1733.66\" y1=\"646.589\" x2=\"1745.66\" y2=\"646.589\" style=\"stroke:#009af9; stroke-width:3.2; stroke-opacity:0.5\"/>\n",
       "<line clip-path=\"url(#clip782)\" x1=\"2290.15\" y1=\"600.038\" x2=\"2290.15\" y2=\"588.038\" style=\"stroke:#009af9; stroke-width:3.2; stroke-opacity:0.5\"/>\n",
       "<line clip-path=\"url(#clip782)\" x1=\"2290.15\" y1=\"600.038\" x2=\"2278.15\" y2=\"600.038\" style=\"stroke:#009af9; stroke-width:3.2; stroke-opacity:0.5\"/>\n",
       "<line clip-path=\"url(#clip782)\" x1=\"2290.15\" y1=\"600.038\" x2=\"2290.15\" y2=\"612.038\" style=\"stroke:#009af9; stroke-width:3.2; stroke-opacity:0.5\"/>\n",
       "<line clip-path=\"url(#clip782)\" x1=\"2290.15\" y1=\"600.038\" x2=\"2302.15\" y2=\"600.038\" style=\"stroke:#009af9; stroke-width:3.2; stroke-opacity:0.5\"/>\n",
       "<line clip-path=\"url(#clip782)\" x1=\"620.671\" y1=\"724.174\" x2=\"620.671\" y2=\"712.174\" style=\"stroke:#009af9; stroke-width:3.2; stroke-opacity:0.5\"/>\n",
       "<line clip-path=\"url(#clip782)\" x1=\"620.671\" y1=\"724.174\" x2=\"608.671\" y2=\"724.174\" style=\"stroke:#009af9; stroke-width:3.2; stroke-opacity:0.5\"/>\n",
       "<line clip-path=\"url(#clip782)\" x1=\"620.671\" y1=\"724.174\" x2=\"620.671\" y2=\"736.174\" style=\"stroke:#009af9; stroke-width:3.2; stroke-opacity:0.5\"/>\n",
       "<line clip-path=\"url(#clip782)\" x1=\"620.671\" y1=\"724.174\" x2=\"632.671\" y2=\"724.174\" style=\"stroke:#009af9; stroke-width:3.2; stroke-opacity:0.5\"/>\n",
       "<line clip-path=\"url(#clip782)\" x1=\"1177.16\" y1=\"483.66\" x2=\"1177.16\" y2=\"471.66\" style=\"stroke:#009af9; stroke-width:3.2; stroke-opacity:0.5\"/>\n",
       "<line clip-path=\"url(#clip782)\" x1=\"1177.16\" y1=\"483.66\" x2=\"1165.16\" y2=\"483.66\" style=\"stroke:#009af9; stroke-width:3.2; stroke-opacity:0.5\"/>\n",
       "<line clip-path=\"url(#clip782)\" x1=\"1177.16\" y1=\"483.66\" x2=\"1177.16\" y2=\"495.66\" style=\"stroke:#009af9; stroke-width:3.2; stroke-opacity:0.5\"/>\n",
       "<line clip-path=\"url(#clip782)\" x1=\"1177.16\" y1=\"483.66\" x2=\"1189.16\" y2=\"483.66\" style=\"stroke:#009af9; stroke-width:3.2; stroke-opacity:0.5\"/>\n",
       "<line clip-path=\"url(#clip782)\" x1=\"1733.66\" y1=\"421.592\" x2=\"1733.66\" y2=\"409.592\" style=\"stroke:#009af9; stroke-width:3.2; stroke-opacity:0.5\"/>\n",
       "<line clip-path=\"url(#clip782)\" x1=\"1733.66\" y1=\"421.592\" x2=\"1721.66\" y2=\"421.592\" style=\"stroke:#009af9; stroke-width:3.2; stroke-opacity:0.5\"/>\n",
       "<line clip-path=\"url(#clip782)\" x1=\"1733.66\" y1=\"421.592\" x2=\"1733.66\" y2=\"433.592\" style=\"stroke:#009af9; stroke-width:3.2; stroke-opacity:0.5\"/>\n",
       "<line clip-path=\"url(#clip782)\" x1=\"1733.66\" y1=\"421.592\" x2=\"1745.66\" y2=\"421.592\" style=\"stroke:#009af9; stroke-width:3.2; stroke-opacity:0.5\"/>\n",
       "<line clip-path=\"url(#clip782)\" x1=\"2290.15\" y1=\"475.902\" x2=\"2290.15\" y2=\"463.902\" style=\"stroke:#009af9; stroke-width:3.2; stroke-opacity:0.5\"/>\n",
       "<line clip-path=\"url(#clip782)\" x1=\"2290.15\" y1=\"475.902\" x2=\"2278.15\" y2=\"475.902\" style=\"stroke:#009af9; stroke-width:3.2; stroke-opacity:0.5\"/>\n",
       "<line clip-path=\"url(#clip782)\" x1=\"2290.15\" y1=\"475.902\" x2=\"2290.15\" y2=\"487.902\" style=\"stroke:#009af9; stroke-width:3.2; stroke-opacity:0.5\"/>\n",
       "<line clip-path=\"url(#clip782)\" x1=\"2290.15\" y1=\"475.902\" x2=\"2302.15\" y2=\"475.902\" style=\"stroke:#009af9; stroke-width:3.2; stroke-opacity:0.5\"/>\n",
       "<line clip-path=\"url(#clip782)\" x1=\"203.301\" y1=\"1243.99\" x2=\"203.301\" y2=\"1231.99\" style=\"stroke:#009af9; stroke-width:3.2; stroke-opacity:0.5\"/>\n",
       "<line clip-path=\"url(#clip782)\" x1=\"203.301\" y1=\"1243.99\" x2=\"191.301\" y2=\"1243.99\" style=\"stroke:#009af9; stroke-width:3.2; stroke-opacity:0.5\"/>\n",
       "<line clip-path=\"url(#clip782)\" x1=\"203.301\" y1=\"1243.99\" x2=\"203.301\" y2=\"1255.99\" style=\"stroke:#009af9; stroke-width:3.2; stroke-opacity:0.5\"/>\n",
       "<line clip-path=\"url(#clip782)\" x1=\"203.301\" y1=\"1243.99\" x2=\"215.301\" y2=\"1243.99\" style=\"stroke:#009af9; stroke-width:3.2; stroke-opacity:0.5\"/>\n",
       "<line clip-path=\"url(#clip782)\" x1=\"342.424\" y1=\"925.895\" x2=\"342.424\" y2=\"913.895\" style=\"stroke:#009af9; stroke-width:3.2; stroke-opacity:0.5\"/>\n",
       "<line clip-path=\"url(#clip782)\" x1=\"342.424\" y1=\"925.895\" x2=\"330.424\" y2=\"925.895\" style=\"stroke:#009af9; stroke-width:3.2; stroke-opacity:0.5\"/>\n",
       "<line clip-path=\"url(#clip782)\" x1=\"342.424\" y1=\"925.895\" x2=\"342.424\" y2=\"937.895\" style=\"stroke:#009af9; stroke-width:3.2; stroke-opacity:0.5\"/>\n",
       "<line clip-path=\"url(#clip782)\" x1=\"342.424\" y1=\"925.895\" x2=\"354.424\" y2=\"925.895\" style=\"stroke:#009af9; stroke-width:3.2; stroke-opacity:0.5\"/>\n",
       "<line clip-path=\"url(#clip782)\" x1=\"620.671\" y1=\"638.831\" x2=\"620.671\" y2=\"626.831\" style=\"stroke:#009af9; stroke-width:3.2; stroke-opacity:0.5\"/>\n",
       "<line clip-path=\"url(#clip782)\" x1=\"620.671\" y1=\"638.831\" x2=\"608.671\" y2=\"638.831\" style=\"stroke:#009af9; stroke-width:3.2; stroke-opacity:0.5\"/>\n",
       "<line clip-path=\"url(#clip782)\" x1=\"620.671\" y1=\"638.831\" x2=\"620.671\" y2=\"650.831\" style=\"stroke:#009af9; stroke-width:3.2; stroke-opacity:0.5\"/>\n",
       "<line clip-path=\"url(#clip782)\" x1=\"620.671\" y1=\"638.831\" x2=\"632.671\" y2=\"638.831\" style=\"stroke:#009af9; stroke-width:3.2; stroke-opacity:0.5\"/>\n",
       "<line clip-path=\"url(#clip782)\" x1=\"1177.16\" y1=\"460.385\" x2=\"1177.16\" y2=\"448.385\" style=\"stroke:#009af9; stroke-width:3.2; stroke-opacity:0.5\"/>\n",
       "<line clip-path=\"url(#clip782)\" x1=\"1177.16\" y1=\"460.385\" x2=\"1165.16\" y2=\"460.385\" style=\"stroke:#009af9; stroke-width:3.2; stroke-opacity:0.5\"/>\n",
       "<line clip-path=\"url(#clip782)\" x1=\"1177.16\" y1=\"460.385\" x2=\"1177.16\" y2=\"472.385\" style=\"stroke:#009af9; stroke-width:3.2; stroke-opacity:0.5\"/>\n",
       "<line clip-path=\"url(#clip782)\" x1=\"1177.16\" y1=\"460.385\" x2=\"1189.16\" y2=\"460.385\" style=\"stroke:#009af9; stroke-width:3.2; stroke-opacity:0.5\"/>\n",
       "<line clip-path=\"url(#clip782)\" x1=\"203.301\" y1=\"1437.96\" x2=\"203.301\" y2=\"1425.96\" style=\"stroke:#009af9; stroke-width:3.2; stroke-opacity:0.5\"/>\n",
       "<line clip-path=\"url(#clip782)\" x1=\"203.301\" y1=\"1437.96\" x2=\"191.301\" y2=\"1437.96\" style=\"stroke:#009af9; stroke-width:3.2; stroke-opacity:0.5\"/>\n",
       "<line clip-path=\"url(#clip782)\" x1=\"203.301\" y1=\"1437.96\" x2=\"203.301\" y2=\"1449.96\" style=\"stroke:#009af9; stroke-width:3.2; stroke-opacity:0.5\"/>\n",
       "<line clip-path=\"url(#clip782)\" x1=\"203.301\" y1=\"1437.96\" x2=\"215.301\" y2=\"1437.96\" style=\"stroke:#009af9; stroke-width:3.2; stroke-opacity:0.5\"/>\n",
       "<line clip-path=\"url(#clip782)\" x1=\"342.424\" y1=\"1174.17\" x2=\"342.424\" y2=\"1162.17\" style=\"stroke:#009af9; stroke-width:3.2; stroke-opacity:0.5\"/>\n",
       "<line clip-path=\"url(#clip782)\" x1=\"342.424\" y1=\"1174.17\" x2=\"330.424\" y2=\"1174.17\" style=\"stroke:#009af9; stroke-width:3.2; stroke-opacity:0.5\"/>\n",
       "<line clip-path=\"url(#clip782)\" x1=\"342.424\" y1=\"1174.17\" x2=\"342.424\" y2=\"1186.17\" style=\"stroke:#009af9; stroke-width:3.2; stroke-opacity:0.5\"/>\n",
       "<line clip-path=\"url(#clip782)\" x1=\"342.424\" y1=\"1174.17\" x2=\"354.424\" y2=\"1174.17\" style=\"stroke:#009af9; stroke-width:3.2; stroke-opacity:0.5\"/>\n",
       "<line clip-path=\"url(#clip782)\" x1=\"620.671\" y1=\"879.344\" x2=\"620.671\" y2=\"867.344\" style=\"stroke:#009af9; stroke-width:3.2; stroke-opacity:0.5\"/>\n",
       "<line clip-path=\"url(#clip782)\" x1=\"620.671\" y1=\"879.344\" x2=\"608.671\" y2=\"879.344\" style=\"stroke:#009af9; stroke-width:3.2; stroke-opacity:0.5\"/>\n",
       "<line clip-path=\"url(#clip782)\" x1=\"620.671\" y1=\"879.344\" x2=\"620.671\" y2=\"891.344\" style=\"stroke:#009af9; stroke-width:3.2; stroke-opacity:0.5\"/>\n",
       "<line clip-path=\"url(#clip782)\" x1=\"620.671\" y1=\"879.344\" x2=\"632.671\" y2=\"879.344\" style=\"stroke:#009af9; stroke-width:3.2; stroke-opacity:0.5\"/>\n",
       "<line clip-path=\"url(#clip782)\" x1=\"203.301\" y1=\"1445.72\" x2=\"203.301\" y2=\"1433.72\" style=\"stroke:#009af9; stroke-width:3.2; stroke-opacity:0.5\"/>\n",
       "<line clip-path=\"url(#clip782)\" x1=\"203.301\" y1=\"1445.72\" x2=\"191.301\" y2=\"1445.72\" style=\"stroke:#009af9; stroke-width:3.2; stroke-opacity:0.5\"/>\n",
       "<line clip-path=\"url(#clip782)\" x1=\"203.301\" y1=\"1445.72\" x2=\"203.301\" y2=\"1457.72\" style=\"stroke:#009af9; stroke-width:3.2; stroke-opacity:0.5\"/>\n",
       "<line clip-path=\"url(#clip782)\" x1=\"203.301\" y1=\"1445.72\" x2=\"215.301\" y2=\"1445.72\" style=\"stroke:#009af9; stroke-width:3.2; stroke-opacity:0.5\"/>\n",
       "<line clip-path=\"url(#clip782)\" x1=\"342.424\" y1=\"1290.55\" x2=\"342.424\" y2=\"1278.55\" style=\"stroke:#009af9; stroke-width:3.2; stroke-opacity:0.5\"/>\n",
       "<line clip-path=\"url(#clip782)\" x1=\"342.424\" y1=\"1290.55\" x2=\"330.424\" y2=\"1290.55\" style=\"stroke:#009af9; stroke-width:3.2; stroke-opacity:0.5\"/>\n",
       "<line clip-path=\"url(#clip782)\" x1=\"342.424\" y1=\"1290.55\" x2=\"342.424\" y2=\"1302.55\" style=\"stroke:#009af9; stroke-width:3.2; stroke-opacity:0.5\"/>\n",
       "<line clip-path=\"url(#clip782)\" x1=\"342.424\" y1=\"1290.55\" x2=\"354.424\" y2=\"1290.55\" style=\"stroke:#009af9; stroke-width:3.2; stroke-opacity:0.5\"/>\n",
       "<line clip-path=\"url(#clip782)\" x1=\"620.671\" y1=\"933.654\" x2=\"620.671\" y2=\"921.654\" style=\"stroke:#009af9; stroke-width:3.2; stroke-opacity:0.5\"/>\n",
       "<line clip-path=\"url(#clip782)\" x1=\"620.671\" y1=\"933.654\" x2=\"608.671\" y2=\"933.654\" style=\"stroke:#009af9; stroke-width:3.2; stroke-opacity:0.5\"/>\n",
       "<line clip-path=\"url(#clip782)\" x1=\"620.671\" y1=\"933.654\" x2=\"620.671\" y2=\"945.654\" style=\"stroke:#009af9; stroke-width:3.2; stroke-opacity:0.5\"/>\n",
       "<line clip-path=\"url(#clip782)\" x1=\"620.671\" y1=\"933.654\" x2=\"632.671\" y2=\"933.654\" style=\"stroke:#009af9; stroke-width:3.2; stroke-opacity:0.5\"/>\n",
       "<line clip-path=\"url(#clip782)\" x1=\"203.301\" y1=\"1329.34\" x2=\"203.301\" y2=\"1317.34\" style=\"stroke:#009af9; stroke-width:3.2; stroke-opacity:0.5\"/>\n",
       "<line clip-path=\"url(#clip782)\" x1=\"203.301\" y1=\"1329.34\" x2=\"191.301\" y2=\"1329.34\" style=\"stroke:#009af9; stroke-width:3.2; stroke-opacity:0.5\"/>\n",
       "<line clip-path=\"url(#clip782)\" x1=\"203.301\" y1=\"1329.34\" x2=\"203.301\" y2=\"1341.34\" style=\"stroke:#009af9; stroke-width:3.2; stroke-opacity:0.5\"/>\n",
       "<line clip-path=\"url(#clip782)\" x1=\"203.301\" y1=\"1329.34\" x2=\"215.301\" y2=\"1329.34\" style=\"stroke:#009af9; stroke-width:3.2; stroke-opacity:0.5\"/>\n",
       "<line clip-path=\"url(#clip782)\" x1=\"342.424\" y1=\"1166.41\" x2=\"342.424\" y2=\"1154.41\" style=\"stroke:#009af9; stroke-width:3.2; stroke-opacity:0.5\"/>\n",
       "<line clip-path=\"url(#clip782)\" x1=\"342.424\" y1=\"1166.41\" x2=\"330.424\" y2=\"1166.41\" style=\"stroke:#009af9; stroke-width:3.2; stroke-opacity:0.5\"/>\n",
       "<line clip-path=\"url(#clip782)\" x1=\"342.424\" y1=\"1166.41\" x2=\"342.424\" y2=\"1178.41\" style=\"stroke:#009af9; stroke-width:3.2; stroke-opacity:0.5\"/>\n",
       "<line clip-path=\"url(#clip782)\" x1=\"342.424\" y1=\"1166.41\" x2=\"354.424\" y2=\"1166.41\" style=\"stroke:#009af9; stroke-width:3.2; stroke-opacity:0.5\"/>\n",
       "<line clip-path=\"url(#clip782)\" x1=\"620.671\" y1=\"972.447\" x2=\"620.671\" y2=\"960.447\" style=\"stroke:#009af9; stroke-width:3.2; stroke-opacity:0.5\"/>\n",
       "<line clip-path=\"url(#clip782)\" x1=\"620.671\" y1=\"972.447\" x2=\"608.671\" y2=\"972.447\" style=\"stroke:#009af9; stroke-width:3.2; stroke-opacity:0.5\"/>\n",
       "<line clip-path=\"url(#clip782)\" x1=\"620.671\" y1=\"972.447\" x2=\"620.671\" y2=\"984.447\" style=\"stroke:#009af9; stroke-width:3.2; stroke-opacity:0.5\"/>\n",
       "<line clip-path=\"url(#clip782)\" x1=\"620.671\" y1=\"972.447\" x2=\"632.671\" y2=\"972.447\" style=\"stroke:#009af9; stroke-width:3.2; stroke-opacity:0.5\"/>\n",
       "<line clip-path=\"url(#clip782)\" x1=\"620.671\" y1=\"437.109\" x2=\"620.671\" y2=\"425.109\" style=\"stroke:#009af9; stroke-width:3.2; stroke-opacity:0.5\"/>\n",
       "<line clip-path=\"url(#clip782)\" x1=\"620.671\" y1=\"437.109\" x2=\"608.671\" y2=\"437.109\" style=\"stroke:#009af9; stroke-width:3.2; stroke-opacity:0.5\"/>\n",
       "<line clip-path=\"url(#clip782)\" x1=\"620.671\" y1=\"437.109\" x2=\"620.671\" y2=\"449.109\" style=\"stroke:#009af9; stroke-width:3.2; stroke-opacity:0.5\"/>\n",
       "<line clip-path=\"url(#clip782)\" x1=\"620.671\" y1=\"437.109\" x2=\"632.671\" y2=\"437.109\" style=\"stroke:#009af9; stroke-width:3.2; stroke-opacity:0.5\"/>\n",
       "<line clip-path=\"url(#clip782)\" x1=\"1177.16\" y1=\"281.939\" x2=\"1177.16\" y2=\"269.939\" style=\"stroke:#009af9; stroke-width:3.2; stroke-opacity:0.5\"/>\n",
       "<line clip-path=\"url(#clip782)\" x1=\"1177.16\" y1=\"281.939\" x2=\"1165.16\" y2=\"281.939\" style=\"stroke:#009af9; stroke-width:3.2; stroke-opacity:0.5\"/>\n",
       "<line clip-path=\"url(#clip782)\" x1=\"1177.16\" y1=\"281.939\" x2=\"1177.16\" y2=\"293.939\" style=\"stroke:#009af9; stroke-width:3.2; stroke-opacity:0.5\"/>\n",
       "<line clip-path=\"url(#clip782)\" x1=\"1177.16\" y1=\"281.939\" x2=\"1189.16\" y2=\"281.939\" style=\"stroke:#009af9; stroke-width:3.2; stroke-opacity:0.5\"/>\n",
       "<line clip-path=\"url(#clip782)\" x1=\"203.301\" y1=\"1306.06\" x2=\"203.301\" y2=\"1294.06\" style=\"stroke:#009af9; stroke-width:3.2; stroke-opacity:0.5\"/>\n",
       "<line clip-path=\"url(#clip782)\" x1=\"203.301\" y1=\"1306.06\" x2=\"191.301\" y2=\"1306.06\" style=\"stroke:#009af9; stroke-width:3.2; stroke-opacity:0.5\"/>\n",
       "<line clip-path=\"url(#clip782)\" x1=\"203.301\" y1=\"1306.06\" x2=\"203.301\" y2=\"1318.06\" style=\"stroke:#009af9; stroke-width:3.2; stroke-opacity:0.5\"/>\n",
       "<line clip-path=\"url(#clip782)\" x1=\"203.301\" y1=\"1306.06\" x2=\"215.301\" y2=\"1306.06\" style=\"stroke:#009af9; stroke-width:3.2; stroke-opacity:0.5\"/>\n",
       "<line clip-path=\"url(#clip782)\" x1=\"620.671\" y1=\"514.694\" x2=\"620.671\" y2=\"502.694\" style=\"stroke:#009af9; stroke-width:3.2; stroke-opacity:0.5\"/>\n",
       "<line clip-path=\"url(#clip782)\" x1=\"620.671\" y1=\"514.694\" x2=\"608.671\" y2=\"514.694\" style=\"stroke:#009af9; stroke-width:3.2; stroke-opacity:0.5\"/>\n",
       "<line clip-path=\"url(#clip782)\" x1=\"620.671\" y1=\"514.694\" x2=\"620.671\" y2=\"526.694\" style=\"stroke:#009af9; stroke-width:3.2; stroke-opacity:0.5\"/>\n",
       "<line clip-path=\"url(#clip782)\" x1=\"620.671\" y1=\"514.694\" x2=\"632.671\" y2=\"514.694\" style=\"stroke:#009af9; stroke-width:3.2; stroke-opacity:0.5\"/>\n",
       "<line clip-path=\"url(#clip782)\" x1=\"342.424\" y1=\"925.895\" x2=\"342.424\" y2=\"913.895\" style=\"stroke:#009af9; stroke-width:3.2; stroke-opacity:0.5\"/>\n",
       "<line clip-path=\"url(#clip782)\" x1=\"342.424\" y1=\"925.895\" x2=\"330.424\" y2=\"925.895\" style=\"stroke:#009af9; stroke-width:3.2; stroke-opacity:0.5\"/>\n",
       "<line clip-path=\"url(#clip782)\" x1=\"342.424\" y1=\"925.895\" x2=\"342.424\" y2=\"937.895\" style=\"stroke:#009af9; stroke-width:3.2; stroke-opacity:0.5\"/>\n",
       "<line clip-path=\"url(#clip782)\" x1=\"342.424\" y1=\"925.895\" x2=\"354.424\" y2=\"925.895\" style=\"stroke:#009af9; stroke-width:3.2; stroke-opacity:0.5\"/>\n",
       "<line clip-path=\"url(#clip782)\" x1=\"620.671\" y1=\"623.314\" x2=\"620.671\" y2=\"611.314\" style=\"stroke:#009af9; stroke-width:3.2; stroke-opacity:0.5\"/>\n",
       "<line clip-path=\"url(#clip782)\" x1=\"620.671\" y1=\"623.314\" x2=\"608.671\" y2=\"623.314\" style=\"stroke:#009af9; stroke-width:3.2; stroke-opacity:0.5\"/>\n",
       "<line clip-path=\"url(#clip782)\" x1=\"620.671\" y1=\"623.314\" x2=\"620.671\" y2=\"635.314\" style=\"stroke:#009af9; stroke-width:3.2; stroke-opacity:0.5\"/>\n",
       "<line clip-path=\"url(#clip782)\" x1=\"620.671\" y1=\"623.314\" x2=\"632.671\" y2=\"623.314\" style=\"stroke:#009af9; stroke-width:3.2; stroke-opacity:0.5\"/>\n",
       "<line clip-path=\"url(#clip782)\" x1=\"203.301\" y1=\"1065.55\" x2=\"203.301\" y2=\"1053.55\" style=\"stroke:#009af9; stroke-width:3.2; stroke-opacity:0.5\"/>\n",
       "<line clip-path=\"url(#clip782)\" x1=\"203.301\" y1=\"1065.55\" x2=\"191.301\" y2=\"1065.55\" style=\"stroke:#009af9; stroke-width:3.2; stroke-opacity:0.5\"/>\n",
       "<line clip-path=\"url(#clip782)\" x1=\"203.301\" y1=\"1065.55\" x2=\"203.301\" y2=\"1077.55\" style=\"stroke:#009af9; stroke-width:3.2; stroke-opacity:0.5\"/>\n",
       "<line clip-path=\"url(#clip782)\" x1=\"203.301\" y1=\"1065.55\" x2=\"215.301\" y2=\"1065.55\" style=\"stroke:#009af9; stroke-width:3.2; stroke-opacity:0.5\"/>\n",
       "<line clip-path=\"url(#clip782)\" x1=\"620.671\" y1=\"398.317\" x2=\"620.671\" y2=\"386.317\" style=\"stroke:#009af9; stroke-width:3.2; stroke-opacity:0.5\"/>\n",
       "<line clip-path=\"url(#clip782)\" x1=\"620.671\" y1=\"398.317\" x2=\"608.671\" y2=\"398.317\" style=\"stroke:#009af9; stroke-width:3.2; stroke-opacity:0.5\"/>\n",
       "<line clip-path=\"url(#clip782)\" x1=\"620.671\" y1=\"398.317\" x2=\"620.671\" y2=\"410.317\" style=\"stroke:#009af9; stroke-width:3.2; stroke-opacity:0.5\"/>\n",
       "<line clip-path=\"url(#clip782)\" x1=\"620.671\" y1=\"398.317\" x2=\"632.671\" y2=\"398.317\" style=\"stroke:#009af9; stroke-width:3.2; stroke-opacity:0.5\"/>\n",
       "<line clip-path=\"url(#clip782)\" x1=\"203.301\" y1=\"1096.58\" x2=\"203.301\" y2=\"1084.58\" style=\"stroke:#009af9; stroke-width:3.2; stroke-opacity:0.5\"/>\n",
       "<line clip-path=\"url(#clip782)\" x1=\"203.301\" y1=\"1096.58\" x2=\"191.301\" y2=\"1096.58\" style=\"stroke:#009af9; stroke-width:3.2; stroke-opacity:0.5\"/>\n",
       "<line clip-path=\"url(#clip782)\" x1=\"203.301\" y1=\"1096.58\" x2=\"203.301\" y2=\"1108.58\" style=\"stroke:#009af9; stroke-width:3.2; stroke-opacity:0.5\"/>\n",
       "<line clip-path=\"url(#clip782)\" x1=\"203.301\" y1=\"1096.58\" x2=\"215.301\" y2=\"1096.58\" style=\"stroke:#009af9; stroke-width:3.2; stroke-opacity:0.5\"/>\n",
       "<line clip-path=\"url(#clip782)\" x1=\"342.424\" y1=\"794.001\" x2=\"342.424\" y2=\"782.001\" style=\"stroke:#009af9; stroke-width:3.2; stroke-opacity:0.5\"/>\n",
       "<line clip-path=\"url(#clip782)\" x1=\"342.424\" y1=\"794.001\" x2=\"330.424\" y2=\"794.001\" style=\"stroke:#009af9; stroke-width:3.2; stroke-opacity:0.5\"/>\n",
       "<line clip-path=\"url(#clip782)\" x1=\"342.424\" y1=\"794.001\" x2=\"342.424\" y2=\"806.001\" style=\"stroke:#009af9; stroke-width:3.2; stroke-opacity:0.5\"/>\n",
       "<line clip-path=\"url(#clip782)\" x1=\"342.424\" y1=\"794.001\" x2=\"354.424\" y2=\"794.001\" style=\"stroke:#009af9; stroke-width:3.2; stroke-opacity:0.5\"/>\n",
       "<line clip-path=\"url(#clip782)\" x1=\"620.671\" y1=\"506.936\" x2=\"620.671\" y2=\"494.936\" style=\"stroke:#009af9; stroke-width:3.2; stroke-opacity:0.5\"/>\n",
       "<line clip-path=\"url(#clip782)\" x1=\"620.671\" y1=\"506.936\" x2=\"608.671\" y2=\"506.936\" style=\"stroke:#009af9; stroke-width:3.2; stroke-opacity:0.5\"/>\n",
       "<line clip-path=\"url(#clip782)\" x1=\"620.671\" y1=\"506.936\" x2=\"620.671\" y2=\"518.936\" style=\"stroke:#009af9; stroke-width:3.2; stroke-opacity:0.5\"/>\n",
       "<line clip-path=\"url(#clip782)\" x1=\"620.671\" y1=\"506.936\" x2=\"632.671\" y2=\"506.936\" style=\"stroke:#009af9; stroke-width:3.2; stroke-opacity:0.5\"/>\n",
       "<line clip-path=\"url(#clip782)\" x1=\"620.671\" y1=\"514.694\" x2=\"620.671\" y2=\"502.694\" style=\"stroke:#009af9; stroke-width:3.2; stroke-opacity:0.5\"/>\n",
       "<line clip-path=\"url(#clip782)\" x1=\"620.671\" y1=\"514.694\" x2=\"608.671\" y2=\"514.694\" style=\"stroke:#009af9; stroke-width:3.2; stroke-opacity:0.5\"/>\n",
       "<line clip-path=\"url(#clip782)\" x1=\"620.671\" y1=\"514.694\" x2=\"620.671\" y2=\"526.694\" style=\"stroke:#009af9; stroke-width:3.2; stroke-opacity:0.5\"/>\n",
       "<line clip-path=\"url(#clip782)\" x1=\"620.671\" y1=\"514.694\" x2=\"632.671\" y2=\"514.694\" style=\"stroke:#009af9; stroke-width:3.2; stroke-opacity:0.5\"/>\n",
       "<line clip-path=\"url(#clip782)\" x1=\"1177.16\" y1=\"212.112\" x2=\"1177.16\" y2=\"200.112\" style=\"stroke:#009af9; stroke-width:3.2; stroke-opacity:0.5\"/>\n",
       "<line clip-path=\"url(#clip782)\" x1=\"1177.16\" y1=\"212.112\" x2=\"1165.16\" y2=\"212.112\" style=\"stroke:#009af9; stroke-width:3.2; stroke-opacity:0.5\"/>\n",
       "<line clip-path=\"url(#clip782)\" x1=\"1177.16\" y1=\"212.112\" x2=\"1177.16\" y2=\"224.112\" style=\"stroke:#009af9; stroke-width:3.2; stroke-opacity:0.5\"/>\n",
       "<line clip-path=\"url(#clip782)\" x1=\"1177.16\" y1=\"212.112\" x2=\"1189.16\" y2=\"212.112\" style=\"stroke:#009af9; stroke-width:3.2; stroke-opacity:0.5\"/>\n",
       "<line clip-path=\"url(#clip782)\" x1=\"620.671\" y1=\"584.521\" x2=\"620.671\" y2=\"572.521\" style=\"stroke:#009af9; stroke-width:3.2; stroke-opacity:0.5\"/>\n",
       "<line clip-path=\"url(#clip782)\" x1=\"620.671\" y1=\"584.521\" x2=\"608.671\" y2=\"584.521\" style=\"stroke:#009af9; stroke-width:3.2; stroke-opacity:0.5\"/>\n",
       "<line clip-path=\"url(#clip782)\" x1=\"620.671\" y1=\"584.521\" x2=\"620.671\" y2=\"596.521\" style=\"stroke:#009af9; stroke-width:3.2; stroke-opacity:0.5\"/>\n",
       "<line clip-path=\"url(#clip782)\" x1=\"620.671\" y1=\"584.521\" x2=\"632.671\" y2=\"584.521\" style=\"stroke:#009af9; stroke-width:3.2; stroke-opacity:0.5\"/>\n",
       "<line clip-path=\"url(#clip782)\" x1=\"1177.16\" y1=\"406.075\" x2=\"1177.16\" y2=\"394.075\" style=\"stroke:#009af9; stroke-width:3.2; stroke-opacity:0.5\"/>\n",
       "<line clip-path=\"url(#clip782)\" x1=\"1177.16\" y1=\"406.075\" x2=\"1165.16\" y2=\"406.075\" style=\"stroke:#009af9; stroke-width:3.2; stroke-opacity:0.5\"/>\n",
       "<line clip-path=\"url(#clip782)\" x1=\"1177.16\" y1=\"406.075\" x2=\"1177.16\" y2=\"418.075\" style=\"stroke:#009af9; stroke-width:3.2; stroke-opacity:0.5\"/>\n",
       "<line clip-path=\"url(#clip782)\" x1=\"1177.16\" y1=\"406.075\" x2=\"1189.16\" y2=\"406.075\" style=\"stroke:#009af9; stroke-width:3.2; stroke-opacity:0.5\"/>\n",
       "<line clip-path=\"url(#clip782)\" x1=\"342.424\" y1=\"941.412\" x2=\"342.424\" y2=\"929.412\" style=\"stroke:#009af9; stroke-width:3.2; stroke-opacity:0.5\"/>\n",
       "<line clip-path=\"url(#clip782)\" x1=\"342.424\" y1=\"941.412\" x2=\"330.424\" y2=\"941.412\" style=\"stroke:#009af9; stroke-width:3.2; stroke-opacity:0.5\"/>\n",
       "<line clip-path=\"url(#clip782)\" x1=\"342.424\" y1=\"941.412\" x2=\"342.424\" y2=\"953.412\" style=\"stroke:#009af9; stroke-width:3.2; stroke-opacity:0.5\"/>\n",
       "<line clip-path=\"url(#clip782)\" x1=\"342.424\" y1=\"941.412\" x2=\"354.424\" y2=\"941.412\" style=\"stroke:#009af9; stroke-width:3.2; stroke-opacity:0.5\"/>\n",
       "<line clip-path=\"url(#clip782)\" x1=\"620.671\" y1=\"592.279\" x2=\"620.671\" y2=\"580.279\" style=\"stroke:#009af9; stroke-width:3.2; stroke-opacity:0.5\"/>\n",
       "<line clip-path=\"url(#clip782)\" x1=\"620.671\" y1=\"592.279\" x2=\"608.671\" y2=\"592.279\" style=\"stroke:#009af9; stroke-width:3.2; stroke-opacity:0.5\"/>\n",
       "<line clip-path=\"url(#clip782)\" x1=\"620.671\" y1=\"592.279\" x2=\"620.671\" y2=\"604.279\" style=\"stroke:#009af9; stroke-width:3.2; stroke-opacity:0.5\"/>\n",
       "<line clip-path=\"url(#clip782)\" x1=\"620.671\" y1=\"592.279\" x2=\"632.671\" y2=\"592.279\" style=\"stroke:#009af9; stroke-width:3.2; stroke-opacity:0.5\"/>\n",
       "<line clip-path=\"url(#clip782)\" x1=\"342.424\" y1=\"716.416\" x2=\"342.424\" y2=\"704.416\" style=\"stroke:#009af9; stroke-width:3.2; stroke-opacity:0.5\"/>\n",
       "<line clip-path=\"url(#clip782)\" x1=\"342.424\" y1=\"716.416\" x2=\"330.424\" y2=\"716.416\" style=\"stroke:#009af9; stroke-width:3.2; stroke-opacity:0.5\"/>\n",
       "<line clip-path=\"url(#clip782)\" x1=\"342.424\" y1=\"716.416\" x2=\"342.424\" y2=\"728.416\" style=\"stroke:#009af9; stroke-width:3.2; stroke-opacity:0.5\"/>\n",
       "<line clip-path=\"url(#clip782)\" x1=\"342.424\" y1=\"716.416\" x2=\"354.424\" y2=\"716.416\" style=\"stroke:#009af9; stroke-width:3.2; stroke-opacity:0.5\"/>\n",
       "<line clip-path=\"url(#clip782)\" x1=\"620.671\" y1=\"398.317\" x2=\"620.671\" y2=\"386.317\" style=\"stroke:#009af9; stroke-width:3.2; stroke-opacity:0.5\"/>\n",
       "<line clip-path=\"url(#clip782)\" x1=\"620.671\" y1=\"398.317\" x2=\"608.671\" y2=\"398.317\" style=\"stroke:#009af9; stroke-width:3.2; stroke-opacity:0.5\"/>\n",
       "<line clip-path=\"url(#clip782)\" x1=\"620.671\" y1=\"398.317\" x2=\"620.671\" y2=\"410.317\" style=\"stroke:#009af9; stroke-width:3.2; stroke-opacity:0.5\"/>\n",
       "<line clip-path=\"url(#clip782)\" x1=\"620.671\" y1=\"398.317\" x2=\"632.671\" y2=\"398.317\" style=\"stroke:#009af9; stroke-width:3.2; stroke-opacity:0.5\"/>\n",
       "<line clip-path=\"url(#clip782)\" x1=\"620.671\" y1=\"817.276\" x2=\"620.671\" y2=\"805.276\" style=\"stroke:#009af9; stroke-width:3.2; stroke-opacity:0.5\"/>\n",
       "<line clip-path=\"url(#clip782)\" x1=\"620.671\" y1=\"817.276\" x2=\"608.671\" y2=\"817.276\" style=\"stroke:#009af9; stroke-width:3.2; stroke-opacity:0.5\"/>\n",
       "<line clip-path=\"url(#clip782)\" x1=\"620.671\" y1=\"817.276\" x2=\"620.671\" y2=\"829.276\" style=\"stroke:#009af9; stroke-width:3.2; stroke-opacity:0.5\"/>\n",
       "<line clip-path=\"url(#clip782)\" x1=\"620.671\" y1=\"817.276\" x2=\"632.671\" y2=\"817.276\" style=\"stroke:#009af9; stroke-width:3.2; stroke-opacity:0.5\"/>\n",
       "<line clip-path=\"url(#clip782)\" x1=\"1177.16\" y1=\"522.453\" x2=\"1177.16\" y2=\"510.453\" style=\"stroke:#009af9; stroke-width:3.2; stroke-opacity:0.5\"/>\n",
       "<line clip-path=\"url(#clip782)\" x1=\"1177.16\" y1=\"522.453\" x2=\"1165.16\" y2=\"522.453\" style=\"stroke:#009af9; stroke-width:3.2; stroke-opacity:0.5\"/>\n",
       "<line clip-path=\"url(#clip782)\" x1=\"1177.16\" y1=\"522.453\" x2=\"1177.16\" y2=\"534.453\" style=\"stroke:#009af9; stroke-width:3.2; stroke-opacity:0.5\"/>\n",
       "<line clip-path=\"url(#clip782)\" x1=\"1177.16\" y1=\"522.453\" x2=\"1189.16\" y2=\"522.453\" style=\"stroke:#009af9; stroke-width:3.2; stroke-opacity:0.5\"/>\n",
       "<line clip-path=\"url(#clip782)\" x1=\"1733.66\" y1=\"359.524\" x2=\"1733.66\" y2=\"347.524\" style=\"stroke:#009af9; stroke-width:3.2; stroke-opacity:0.5\"/>\n",
       "<line clip-path=\"url(#clip782)\" x1=\"1733.66\" y1=\"359.524\" x2=\"1721.66\" y2=\"359.524\" style=\"stroke:#009af9; stroke-width:3.2; stroke-opacity:0.5\"/>\n",
       "<line clip-path=\"url(#clip782)\" x1=\"1733.66\" y1=\"359.524\" x2=\"1733.66\" y2=\"371.524\" style=\"stroke:#009af9; stroke-width:3.2; stroke-opacity:0.5\"/>\n",
       "<line clip-path=\"url(#clip782)\" x1=\"1733.66\" y1=\"359.524\" x2=\"1745.66\" y2=\"359.524\" style=\"stroke:#009af9; stroke-width:3.2; stroke-opacity:0.5\"/>\n",
       "<line clip-path=\"url(#clip782)\" x1=\"2290.15\" y1=\"274.181\" x2=\"2290.15\" y2=\"262.181\" style=\"stroke:#009af9; stroke-width:3.2; stroke-opacity:0.5\"/>\n",
       "<line clip-path=\"url(#clip782)\" x1=\"2290.15\" y1=\"274.181\" x2=\"2278.15\" y2=\"274.181\" style=\"stroke:#009af9; stroke-width:3.2; stroke-opacity:0.5\"/>\n",
       "<line clip-path=\"url(#clip782)\" x1=\"2290.15\" y1=\"274.181\" x2=\"2290.15\" y2=\"286.181\" style=\"stroke:#009af9; stroke-width:3.2; stroke-opacity:0.5\"/>\n",
       "<line clip-path=\"url(#clip782)\" x1=\"2290.15\" y1=\"274.181\" x2=\"2302.15\" y2=\"274.181\" style=\"stroke:#009af9; stroke-width:3.2; stroke-opacity:0.5\"/>\n",
       "<line clip-path=\"url(#clip782)\" x1=\"620.671\" y1=\"689.261\" x2=\"620.671\" y2=\"677.261\" style=\"stroke:#009af9; stroke-width:3.2; stroke-opacity:0.5\"/>\n",
       "<line clip-path=\"url(#clip782)\" x1=\"620.671\" y1=\"689.261\" x2=\"608.671\" y2=\"689.261\" style=\"stroke:#009af9; stroke-width:3.2; stroke-opacity:0.5\"/>\n",
       "<line clip-path=\"url(#clip782)\" x1=\"620.671\" y1=\"689.261\" x2=\"620.671\" y2=\"701.261\" style=\"stroke:#009af9; stroke-width:3.2; stroke-opacity:0.5\"/>\n",
       "<line clip-path=\"url(#clip782)\" x1=\"620.671\" y1=\"689.261\" x2=\"632.671\" y2=\"689.261\" style=\"stroke:#009af9; stroke-width:3.2; stroke-opacity:0.5\"/>\n",
       "<line clip-path=\"url(#clip782)\" x1=\"1177.16\" y1=\"421.592\" x2=\"1177.16\" y2=\"409.592\" style=\"stroke:#009af9; stroke-width:3.2; stroke-opacity:0.5\"/>\n",
       "<line clip-path=\"url(#clip782)\" x1=\"1177.16\" y1=\"421.592\" x2=\"1165.16\" y2=\"421.592\" style=\"stroke:#009af9; stroke-width:3.2; stroke-opacity:0.5\"/>\n",
       "<line clip-path=\"url(#clip782)\" x1=\"1177.16\" y1=\"421.592\" x2=\"1177.16\" y2=\"433.592\" style=\"stroke:#009af9; stroke-width:3.2; stroke-opacity:0.5\"/>\n",
       "<line clip-path=\"url(#clip782)\" x1=\"1177.16\" y1=\"421.592\" x2=\"1189.16\" y2=\"421.592\" style=\"stroke:#009af9; stroke-width:3.2; stroke-opacity:0.5\"/>\n",
       "<line clip-path=\"url(#clip782)\" x1=\"1733.66\" y1=\"281.939\" x2=\"1733.66\" y2=\"269.939\" style=\"stroke:#009af9; stroke-width:3.2; stroke-opacity:0.5\"/>\n",
       "<line clip-path=\"url(#clip782)\" x1=\"1733.66\" y1=\"281.939\" x2=\"1721.66\" y2=\"281.939\" style=\"stroke:#009af9; stroke-width:3.2; stroke-opacity:0.5\"/>\n",
       "<line clip-path=\"url(#clip782)\" x1=\"1733.66\" y1=\"281.939\" x2=\"1733.66\" y2=\"293.939\" style=\"stroke:#009af9; stroke-width:3.2; stroke-opacity:0.5\"/>\n",
       "<line clip-path=\"url(#clip782)\" x1=\"1733.66\" y1=\"281.939\" x2=\"1745.66\" y2=\"281.939\" style=\"stroke:#009af9; stroke-width:3.2; stroke-opacity:0.5\"/>\n",
       "<line clip-path=\"url(#clip782)\" x1=\"2290.15\" y1=\"375.041\" x2=\"2290.15\" y2=\"363.041\" style=\"stroke:#009af9; stroke-width:3.2; stroke-opacity:0.5\"/>\n",
       "<line clip-path=\"url(#clip782)\" x1=\"2290.15\" y1=\"375.041\" x2=\"2278.15\" y2=\"375.041\" style=\"stroke:#009af9; stroke-width:3.2; stroke-opacity:0.5\"/>\n",
       "<line clip-path=\"url(#clip782)\" x1=\"2290.15\" y1=\"375.041\" x2=\"2290.15\" y2=\"387.041\" style=\"stroke:#009af9; stroke-width:3.2; stroke-opacity:0.5\"/>\n",
       "<line clip-path=\"url(#clip782)\" x1=\"2290.15\" y1=\"375.041\" x2=\"2302.15\" y2=\"375.041\" style=\"stroke:#009af9; stroke-width:3.2; stroke-opacity:0.5\"/>\n",
       "<line clip-path=\"url(#clip782)\" x1=\"620.671\" y1=\"925.895\" x2=\"620.671\" y2=\"913.895\" style=\"stroke:#009af9; stroke-width:3.2; stroke-opacity:0.5\"/>\n",
       "<line clip-path=\"url(#clip782)\" x1=\"620.671\" y1=\"925.895\" x2=\"608.671\" y2=\"925.895\" style=\"stroke:#009af9; stroke-width:3.2; stroke-opacity:0.5\"/>\n",
       "<line clip-path=\"url(#clip782)\" x1=\"620.671\" y1=\"925.895\" x2=\"620.671\" y2=\"937.895\" style=\"stroke:#009af9; stroke-width:3.2; stroke-opacity:0.5\"/>\n",
       "<line clip-path=\"url(#clip782)\" x1=\"620.671\" y1=\"925.895\" x2=\"632.671\" y2=\"925.895\" style=\"stroke:#009af9; stroke-width:3.2; stroke-opacity:0.5\"/>\n",
       "<line clip-path=\"url(#clip782)\" x1=\"1177.16\" y1=\"786.242\" x2=\"1177.16\" y2=\"774.242\" style=\"stroke:#009af9; stroke-width:3.2; stroke-opacity:0.5\"/>\n",
       "<line clip-path=\"url(#clip782)\" x1=\"1177.16\" y1=\"786.242\" x2=\"1165.16\" y2=\"786.242\" style=\"stroke:#009af9; stroke-width:3.2; stroke-opacity:0.5\"/>\n",
       "<line clip-path=\"url(#clip782)\" x1=\"1177.16\" y1=\"786.242\" x2=\"1177.16\" y2=\"798.242\" style=\"stroke:#009af9; stroke-width:3.2; stroke-opacity:0.5\"/>\n",
       "<line clip-path=\"url(#clip782)\" x1=\"1177.16\" y1=\"786.242\" x2=\"1189.16\" y2=\"786.242\" style=\"stroke:#009af9; stroke-width:3.2; stroke-opacity:0.5\"/>\n",
       "<line clip-path=\"url(#clip782)\" x1=\"1733.66\" y1=\"770.725\" x2=\"1733.66\" y2=\"758.725\" style=\"stroke:#009af9; stroke-width:3.2; stroke-opacity:0.5\"/>\n",
       "<line clip-path=\"url(#clip782)\" x1=\"1733.66\" y1=\"770.725\" x2=\"1721.66\" y2=\"770.725\" style=\"stroke:#009af9; stroke-width:3.2; stroke-opacity:0.5\"/>\n",
       "<line clip-path=\"url(#clip782)\" x1=\"1733.66\" y1=\"770.725\" x2=\"1733.66\" y2=\"782.725\" style=\"stroke:#009af9; stroke-width:3.2; stroke-opacity:0.5\"/>\n",
       "<line clip-path=\"url(#clip782)\" x1=\"1733.66\" y1=\"770.725\" x2=\"1745.66\" y2=\"770.725\" style=\"stroke:#009af9; stroke-width:3.2; stroke-opacity:0.5\"/>\n",
       "<line clip-path=\"url(#clip782)\" x1=\"620.671\" y1=\"398.317\" x2=\"620.671\" y2=\"386.317\" style=\"stroke:#009af9; stroke-width:3.2; stroke-opacity:0.5\"/>\n",
       "<line clip-path=\"url(#clip782)\" x1=\"620.671\" y1=\"398.317\" x2=\"608.671\" y2=\"398.317\" style=\"stroke:#009af9; stroke-width:3.2; stroke-opacity:0.5\"/>\n",
       "<line clip-path=\"url(#clip782)\" x1=\"620.671\" y1=\"398.317\" x2=\"620.671\" y2=\"410.317\" style=\"stroke:#009af9; stroke-width:3.2; stroke-opacity:0.5\"/>\n",
       "<line clip-path=\"url(#clip782)\" x1=\"620.671\" y1=\"398.317\" x2=\"632.671\" y2=\"398.317\" style=\"stroke:#009af9; stroke-width:3.2; stroke-opacity:0.5\"/>\n",
       "<line clip-path=\"url(#clip782)\" x1=\"1177.16\" y1=\"204.354\" x2=\"1177.16\" y2=\"192.354\" style=\"stroke:#009af9; stroke-width:3.2; stroke-opacity:0.5\"/>\n",
       "<line clip-path=\"url(#clip782)\" x1=\"1177.16\" y1=\"204.354\" x2=\"1165.16\" y2=\"204.354\" style=\"stroke:#009af9; stroke-width:3.2; stroke-opacity:0.5\"/>\n",
       "<line clip-path=\"url(#clip782)\" x1=\"1177.16\" y1=\"204.354\" x2=\"1177.16\" y2=\"216.354\" style=\"stroke:#009af9; stroke-width:3.2; stroke-opacity:0.5\"/>\n",
       "<line clip-path=\"url(#clip782)\" x1=\"1177.16\" y1=\"204.354\" x2=\"1189.16\" y2=\"204.354\" style=\"stroke:#009af9; stroke-width:3.2; stroke-opacity:0.5\"/>\n",
       "<line clip-path=\"url(#clip782)\" x1=\"1733.66\" y1=\"87.9763\" x2=\"1733.66\" y2=\"75.9763\" style=\"stroke:#009af9; stroke-width:3.2; stroke-opacity:0.5\"/>\n",
       "<line clip-path=\"url(#clip782)\" x1=\"1733.66\" y1=\"87.9763\" x2=\"1721.66\" y2=\"87.9763\" style=\"stroke:#009af9; stroke-width:3.2; stroke-opacity:0.5\"/>\n",
       "<line clip-path=\"url(#clip782)\" x1=\"1733.66\" y1=\"87.9763\" x2=\"1733.66\" y2=\"99.9763\" style=\"stroke:#009af9; stroke-width:3.2; stroke-opacity:0.5\"/>\n",
       "<line clip-path=\"url(#clip782)\" x1=\"1733.66\" y1=\"87.9763\" x2=\"1745.66\" y2=\"87.9763\" style=\"stroke:#009af9; stroke-width:3.2; stroke-opacity:0.5\"/>\n",
       "<line clip-path=\"url(#clip782)\" x1=\"620.671\" y1=\"662.106\" x2=\"620.671\" y2=\"650.106\" style=\"stroke:#009af9; stroke-width:3.2; stroke-opacity:0.5\"/>\n",
       "<line clip-path=\"url(#clip782)\" x1=\"620.671\" y1=\"662.106\" x2=\"608.671\" y2=\"662.106\" style=\"stroke:#009af9; stroke-width:3.2; stroke-opacity:0.5\"/>\n",
       "<line clip-path=\"url(#clip782)\" x1=\"620.671\" y1=\"662.106\" x2=\"620.671\" y2=\"674.106\" style=\"stroke:#009af9; stroke-width:3.2; stroke-opacity:0.5\"/>\n",
       "<line clip-path=\"url(#clip782)\" x1=\"620.671\" y1=\"662.106\" x2=\"632.671\" y2=\"662.106\" style=\"stroke:#009af9; stroke-width:3.2; stroke-opacity:0.5\"/>\n",
       "<line clip-path=\"url(#clip782)\" x1=\"1177.16\" y1=\"398.317\" x2=\"1177.16\" y2=\"386.317\" style=\"stroke:#009af9; stroke-width:3.2; stroke-opacity:0.5\"/>\n",
       "<line clip-path=\"url(#clip782)\" x1=\"1177.16\" y1=\"398.317\" x2=\"1165.16\" y2=\"398.317\" style=\"stroke:#009af9; stroke-width:3.2; stroke-opacity:0.5\"/>\n",
       "<line clip-path=\"url(#clip782)\" x1=\"1177.16\" y1=\"398.317\" x2=\"1177.16\" y2=\"410.317\" style=\"stroke:#009af9; stroke-width:3.2; stroke-opacity:0.5\"/>\n",
       "<line clip-path=\"url(#clip782)\" x1=\"1177.16\" y1=\"398.317\" x2=\"1189.16\" y2=\"398.317\" style=\"stroke:#009af9; stroke-width:3.2; stroke-opacity:0.5\"/>\n",
       "<line clip-path=\"url(#clip782)\" x1=\"1733.66\" y1=\"274.181\" x2=\"1733.66\" y2=\"262.181\" style=\"stroke:#009af9; stroke-width:3.2; stroke-opacity:0.5\"/>\n",
       "<line clip-path=\"url(#clip782)\" x1=\"1733.66\" y1=\"274.181\" x2=\"1721.66\" y2=\"274.181\" style=\"stroke:#009af9; stroke-width:3.2; stroke-opacity:0.5\"/>\n",
       "<line clip-path=\"url(#clip782)\" x1=\"1733.66\" y1=\"274.181\" x2=\"1733.66\" y2=\"286.181\" style=\"stroke:#009af9; stroke-width:3.2; stroke-opacity:0.5\"/>\n",
       "<line clip-path=\"url(#clip782)\" x1=\"1733.66\" y1=\"274.181\" x2=\"1745.66\" y2=\"274.181\" style=\"stroke:#009af9; stroke-width:3.2; stroke-opacity:0.5\"/>\n",
       "<line clip-path=\"url(#clip782)\" x1=\"620.671\" y1=\"631.072\" x2=\"620.671\" y2=\"619.072\" style=\"stroke:#009af9; stroke-width:3.2; stroke-opacity:0.5\"/>\n",
       "<line clip-path=\"url(#clip782)\" x1=\"620.671\" y1=\"631.072\" x2=\"608.671\" y2=\"631.072\" style=\"stroke:#009af9; stroke-width:3.2; stroke-opacity:0.5\"/>\n",
       "<line clip-path=\"url(#clip782)\" x1=\"620.671\" y1=\"631.072\" x2=\"620.671\" y2=\"643.072\" style=\"stroke:#009af9; stroke-width:3.2; stroke-opacity:0.5\"/>\n",
       "<line clip-path=\"url(#clip782)\" x1=\"620.671\" y1=\"631.072\" x2=\"632.671\" y2=\"631.072\" style=\"stroke:#009af9; stroke-width:3.2; stroke-opacity:0.5\"/>\n",
       "<line clip-path=\"url(#clip782)\" x1=\"1177.16\" y1=\"460.385\" x2=\"1177.16\" y2=\"448.385\" style=\"stroke:#009af9; stroke-width:3.2; stroke-opacity:0.5\"/>\n",
       "<line clip-path=\"url(#clip782)\" x1=\"1177.16\" y1=\"460.385\" x2=\"1165.16\" y2=\"460.385\" style=\"stroke:#009af9; stroke-width:3.2; stroke-opacity:0.5\"/>\n",
       "<line clip-path=\"url(#clip782)\" x1=\"1177.16\" y1=\"460.385\" x2=\"1177.16\" y2=\"472.385\" style=\"stroke:#009af9; stroke-width:3.2; stroke-opacity:0.5\"/>\n",
       "<line clip-path=\"url(#clip782)\" x1=\"1177.16\" y1=\"460.385\" x2=\"1189.16\" y2=\"460.385\" style=\"stroke:#009af9; stroke-width:3.2; stroke-opacity:0.5\"/>\n",
       "<line clip-path=\"url(#clip782)\" x1=\"1733.66\" y1=\"344.007\" x2=\"1733.66\" y2=\"332.007\" style=\"stroke:#009af9; stroke-width:3.2; stroke-opacity:0.5\"/>\n",
       "<line clip-path=\"url(#clip782)\" x1=\"1733.66\" y1=\"344.007\" x2=\"1721.66\" y2=\"344.007\" style=\"stroke:#009af9; stroke-width:3.2; stroke-opacity:0.5\"/>\n",
       "<line clip-path=\"url(#clip782)\" x1=\"1733.66\" y1=\"344.007\" x2=\"1733.66\" y2=\"356.007\" style=\"stroke:#009af9; stroke-width:3.2; stroke-opacity:0.5\"/>\n",
       "<line clip-path=\"url(#clip782)\" x1=\"1733.66\" y1=\"344.007\" x2=\"1745.66\" y2=\"344.007\" style=\"stroke:#009af9; stroke-width:3.2; stroke-opacity:0.5\"/>\n",
       "<polyline clip-path=\"url(#clip782)\" style=\"stroke:#e26f46; stroke-linecap:round; stroke-linejoin:round; stroke-width:4; stroke-opacity:1; fill:none\" points=\"203.301,945.922 216.888,940.805 342.515,893.489 418.011,865.055 481.843,841.013 551.182,814.898 615.106,790.822 683.639,765.01 763.042,735.104 833.606,708.527 895.484,685.221 962.948,659.812 1030.81,634.251 1105.85,605.991 1177.24,579.102 1251.47,551.144 1313.96,527.609 1390.25,498.876 1460.13,472.554 1524.68,448.244 1590.06,423.619 1663.33,396.021 1729.73,371.013 1805.76,342.38 1876.15,315.869 1945.54,289.731 2012.92,264.354 2081.99,238.34 2157.67,209.838 2267.6,168.434 2290.15,159.94 \"/>\n",
       "<path clip-path=\"url(#clip780)\" d=\"M2005.38 1438.47 L2279.02 1438.47 L2279.02 1282.95 L2005.38 1282.95  Z\" fill=\"#ffffff\" fill-rule=\"evenodd\" fill-opacity=\"1\"/>\n",
       "<polyline clip-path=\"url(#clip780)\" style=\"stroke:#000000; stroke-linecap:round; stroke-linejoin:round; stroke-width:4; stroke-opacity:1; fill:none\" points=\"2005.38,1438.47 2279.02,1438.47 2279.02,1282.95 2005.38,1282.95 2005.38,1438.47 \"/>\n",
       "<line clip-path=\"url(#clip780)\" x1=\"2103.7\" y1=\"1334.79\" x2=\"2103.7\" y2=\"1312.85\" style=\"stroke:#009af9; stroke-width:5.85143; stroke-opacity:0.5\"/>\n",
       "<line clip-path=\"url(#clip780)\" x1=\"2103.7\" y1=\"1334.79\" x2=\"2081.76\" y2=\"1334.79\" style=\"stroke:#009af9; stroke-width:5.85143; stroke-opacity:0.5\"/>\n",
       "<line clip-path=\"url(#clip780)\" x1=\"2103.7\" y1=\"1334.79\" x2=\"2103.7\" y2=\"1356.74\" style=\"stroke:#009af9; stroke-width:5.85143; stroke-opacity:0.5\"/>\n",
       "<line clip-path=\"url(#clip780)\" x1=\"2103.7\" y1=\"1334.79\" x2=\"2125.64\" y2=\"1334.79\" style=\"stroke:#009af9; stroke-width:5.85143; stroke-opacity:0.5\"/>\n",
       "<path clip-path=\"url(#clip780)\" d=\"M2215.85 1354.48 Q2214.05 1359.11 2212.34 1360.52 Q2210.62 1361.94 2207.75 1361.94 L2204.35 1361.94 L2204.35 1358.37 L2206.85 1358.37 Q2208.61 1358.37 2209.58 1357.54 Q2210.55 1356.7 2211.73 1353.6 L2212.5 1351.66 L2202.01 1326.15 L2206.53 1326.15 L2214.63 1346.43 L2222.73 1326.15 L2227.24 1326.15 L2215.85 1354.48 Z\" fill=\"#000000\" fill-rule=\"nonzero\" fill-opacity=\"1\" /><path clip-path=\"url(#clip780)\" d=\"M2234.53 1348.14 L2242.17 1348.14 L2242.17 1321.77 L2233.86 1323.44 L2233.86 1319.18 L2242.13 1317.51 L2246.8 1317.51 L2246.8 1348.14 L2254.44 1348.14 L2254.44 1352.07 L2234.53 1352.07 L2234.53 1348.14 Z\" fill=\"#000000\" fill-rule=\"nonzero\" fill-opacity=\"1\" /><polyline clip-path=\"url(#clip780)\" style=\"stroke:#e26f46; stroke-linecap:round; stroke-linejoin:round; stroke-width:4; stroke-opacity:1; fill:none\" points=\"2029.96,1386.63 2177.43,1386.63 \"/>\n",
       "<path clip-path=\"url(#clip780)\" d=\"M2215.85 1406.32 Q2214.05 1410.95 2212.34 1412.36 Q2210.62 1413.78 2207.75 1413.78 L2204.35 1413.78 L2204.35 1410.21 L2206.85 1410.21 Q2208.61 1410.21 2209.58 1409.38 Q2210.55 1408.54 2211.73 1405.44 L2212.5 1403.5 L2202.01 1377.99 L2206.53 1377.99 L2214.63 1398.27 L2222.73 1377.99 L2227.24 1377.99 L2215.85 1406.32 Z\" fill=\"#000000\" fill-rule=\"nonzero\" fill-opacity=\"1\" /><path clip-path=\"url(#clip780)\" d=\"M2237.75 1399.98 L2254.07 1399.98 L2254.07 1403.91 L2232.13 1403.91 L2232.13 1399.98 Q2234.79 1397.22 2239.37 1392.6 Q2243.98 1387.94 2245.16 1386.6 Q2247.41 1384.08 2248.28 1382.34 Q2249.19 1380.58 2249.19 1378.89 Q2249.19 1376.14 2247.24 1374.4 Q2245.32 1372.66 2242.22 1372.66 Q2240.02 1372.66 2237.57 1373.43 Q2235.14 1374.19 2232.36 1375.74 L2232.36 1371.02 Q2235.18 1369.89 2237.64 1369.31 Q2240.09 1368.73 2242.13 1368.73 Q2247.5 1368.73 2250.69 1371.41 Q2253.89 1374.1 2253.89 1378.59 Q2253.89 1380.72 2253.08 1382.64 Q2252.29 1384.54 2250.18 1387.13 Q2249.6 1387.8 2246.5 1391.02 Q2243.4 1394.22 2237.75 1399.98 Z\" fill=\"#000000\" fill-rule=\"nonzero\" fill-opacity=\"1\" /></svg>\n"
      ]
     },
     "execution_count": 3,
     "metadata": {},
     "output_type": "execute_result"
    }
   ],
   "source": [
    "using Plots\n",
    "scatter(df.conc, df.length, m = (0.5, :+, 3))\n",
    "plot!(x-> 2.4559*x + 13.533)"
   ]
  },
  {
   "cell_type": "code",
   "execution_count": 21,
   "id": "50c4b004",
   "metadata": {},
   "outputs": [
    {
     "data": {
      "text/plain": [
       "2-element Vector{Float64}:\n",
       " 13.532987487197701\n",
       "  2.4559015816084973"
      ]
     },
     "execution_count": 21,
     "metadata": {},
     "output_type": "execute_result"
    }
   ],
   "source": [
    "using LinearAlgebra\n",
    "\n",
    "X = hcat(ones(size(df, 1)), df.conc) \n",
    "y = df.length\n",
    "\n",
    "Q, R = qr(X'*X)\n",
    "\n",
    "# Это требуется не во всех случаях\n",
    "# особенность в том что функция qr возвращает матрицу Q в \"сжатом\" формате Compact WY \n",
    "# поэтому для простого применения ее надо перевести в \"обычный\" вид\n",
    "Q = Matrix(Q)\n",
    "\n",
    "\n",
    "#𝑅β=𝑄'𝑋'𝑦\n",
    "\n",
    "β = R \\ Q' * X' * y"
   ]
  },
  {
   "cell_type": "code",
   "execution_count": 23,
   "id": "89c01358",
   "metadata": {},
   "outputs": [
    {
     "data": {
      "text/plain": [
       "60-element Vector{Float64}:\n",
       " 15.8\n",
       " 20.8\n",
       " 22.6\n",
       " 23.8\n",
       " 20.6\n",
       " 26.8\n",
       " 28.4\n",
       " 27.0\n",
       "  7.2\n",
       " 15.4\n",
       " 22.8\n",
       " 27.4\n",
       "  2.2\n",
       "  ⋮\n",
       " 15.4\n",
       " 19.0\n",
       " 19.4\n",
       " 29.0\n",
       " 34.0\n",
       " 37.0\n",
       " 22.2\n",
       " 29.0\n",
       " 32.2\n",
       " 23.0\n",
       " 27.4\n",
       " 30.4"
      ]
     },
     "execution_count": 23,
     "metadata": {},
     "output_type": "execute_result"
    }
   ],
   "source": [
    "y"
   ]
  },
  {
   "cell_type": "code",
   "execution_count": null,
   "id": "8823886e",
   "metadata": {},
   "outputs": [],
   "source": []
  },
  {
   "cell_type": "code",
   "execution_count": 5,
   "id": "75b3cd69",
   "metadata": {},
   "outputs": [
    {
     "data": {
      "text/plain": [
       "2383.732500333971"
      ]
     },
     "execution_count": 5,
     "metadata": {},
     "output_type": "execute_result"
    }
   ],
   "source": [
    "y_hat = X * β\n",
    "\n",
    "e  = y - y_hat\n",
    "\n",
    "sum_sq = (e' * e)"
   ]
  },
  {
   "cell_type": "code",
   "execution_count": 6,
   "id": "869b54d9",
   "metadata": {},
   "outputs": [
    {
     "data": {
      "text/plain": [
       "2383.7325003339706"
      ]
     },
     "execution_count": 6,
     "metadata": {},
     "output_type": "execute_result"
    }
   ],
   "source": [
    "deviance(ols)"
   ]
  },
  {
   "cell_type": "code",
   "execution_count": 7,
   "id": "1c2b2e13",
   "metadata": {},
   "outputs": [
    {
     "data": {
      "text/plain": [
       "41.098836212654675"
      ]
     },
     "execution_count": 7,
     "metadata": {},
     "output_type": "execute_result"
    }
   ],
   "source": [
    "σ² = sum_sq/(length(e) - rank(X))"
   ]
  },
  {
   "cell_type": "code",
   "execution_count": 8,
   "id": "4506a8ee",
   "metadata": {},
   "outputs": [
    {
     "data": {
      "text/plain": [
       "2×2 Matrix{Float64}:\n",
       "  2.02471   -0.402625\n",
       " -0.402625   0.120999"
      ]
     },
     "execution_count": 8,
     "metadata": {},
     "output_type": "execute_result"
    }
   ],
   "source": [
    "β_vcov = σ² * inv(X' * X)"
   ]
  },
  {
   "cell_type": "code",
   "execution_count": 9,
   "id": "93717931",
   "metadata": {},
   "outputs": [
    {
     "data": {
      "text/plain": [
       "2-element Vector{Float64}:\n",
       " 1.4229246124284716\n",
       " 0.34784935383776977"
      ]
     },
     "execution_count": 9,
     "metadata": {},
     "output_type": "execute_result"
    }
   ],
   "source": [
    "β_sd = sqrt.(diag(β_vcov)) "
   ]
  },
  {
   "cell_type": "code",
   "execution_count": 10,
   "id": "8c21ee39",
   "metadata": {},
   "outputs": [
    {
     "data": {
      "text/plain": [
       "2383.7325003339706"
      ]
     },
     "execution_count": 10,
     "metadata": {},
     "output_type": "execute_result"
    }
   ],
   "source": [
    "deviance(ols)"
   ]
  },
  {
   "cell_type": "markdown",
   "id": "fbdc46c8",
   "metadata": {},
   "source": [
    "Тоже самое если выполнять QR разложение для X\n",
    "\n",
    "$R β = Q^T y$"
   ]
  },
  {
   "cell_type": "code",
   "execution_count": 11,
   "id": "dbd39675",
   "metadata": {},
   "outputs": [
    {
     "data": {
      "text/plain": [
       "2-element Vector{Float64}:\n",
       " 13.532987487197762\n",
       "  2.455901581608487"
      ]
     },
     "execution_count": 11,
     "metadata": {},
     "output_type": "execute_result"
    }
   ],
   "source": [
    "#R β = Q^T y\n",
    "Q, R = qr(X)\n",
    "Q    = Matrix(Q)\n",
    "β    = R \\ Q'*y"
   ]
  },
  {
   "cell_type": "markdown",
   "id": "86e8acba",
   "metadata": {},
   "source": [
    "Или без разложения с помощью нахождения обратной матрицы\n",
    "\n",
    "$β =  (X^T X)^{-1} X^T y$"
   ]
  },
  {
   "cell_type": "code",
   "execution_count": 12,
   "id": "cd8802c1",
   "metadata": {},
   "outputs": [
    {
     "data": {
      "text/plain": [
       "2-element Vector{Float64}:\n",
       " 13.532987487197751\n",
       "  2.4559015816084884"
      ]
     },
     "execution_count": 12,
     "metadata": {},
     "output_type": "execute_result"
    }
   ],
   "source": [
    "β    = inv(X' * X) * X' * y\n"
   ]
  },
  {
   "cell_type": "markdown",
   "id": "3f0dee2f",
   "metadata": {
    "slideshow": {
     "slide_type": "slide"
    }
   },
   "source": [
    "Аналогично выполняется анализ двух и более факторов:"
   ]
  },
  {
   "cell_type": "code",
   "execution_count": 24,
   "id": "63b3001a",
   "metadata": {
    "slideshow": {
     "slide_type": "slide"
    }
   },
   "outputs": [
    {
     "data": {
      "text/html": [
       "<div><div style = \"float: left;\"><span>3×4 DataFrame</span></div><div style = \"clear: both;\"></div></div><div class = \"data-frame\" style = \"overflow-x: scroll;\"><table class = \"data-frame\" style = \"margin-bottom: 6px;\"><thead><tr class = \"header\"><th class = \"rowNumber\" style = \"font-weight: bold; text-align: right;\">Row</th><th style = \"text-align: left;\">subject</th><th style = \"text-align: left;\">factor</th><th style = \"text-align: left;\">response</th><th style = \"text-align: left;\">time</th></tr><tr class = \"subheader headerLastRow\"><th class = \"rowNumber\" style = \"font-weight: bold; text-align: right;\"></th><th title = \"Float64\" style = \"text-align: left;\">Float64</th><th title = \"CategoricalValue{Float64, UInt32}\" style = \"text-align: left;\">Cat…</th><th title = \"Float64\" style = \"text-align: left;\">Float64</th><th title = \"Float64\" style = \"text-align: left;\">Float64</th></tr></thead><tbody><tr><td class = \"rowNumber\" style = \"font-weight: bold; text-align: right;\">1</td><td style = \"text-align: right;\">1.0</td><td style = \"text-align: left;\">1.0</td><td style = \"text-align: right;\">46.951</td><td style = \"text-align: right;\">1.0</td></tr><tr><td class = \"rowNumber\" style = \"font-weight: bold; text-align: right;\">2</td><td style = \"text-align: right;\">1.0</td><td style = \"text-align: left;\">1.0</td><td style = \"text-align: right;\">46.3568</td><td style = \"text-align: right;\">2.0</td></tr><tr><td class = \"rowNumber\" style = \"font-weight: bold; text-align: right;\">3</td><td style = \"text-align: right;\">1.0</td><td style = \"text-align: left;\">1.0</td><td style = \"text-align: right;\">49.1365</td><td style = \"text-align: right;\">3.0</td></tr></tbody></table></div>"
      ],
      "text/latex": [
       "\\begin{tabular}{r|cccc}\n",
       "\t& subject & factor & response & time\\\\\n",
       "\t\\hline\n",
       "\t& Float64 & Cat… & Float64 & Float64\\\\\n",
       "\t\\hline\n",
       "\t1 & 1.0 & 1.0 & 46.951 & 1.0 \\\\\n",
       "\t2 & 1.0 & 1.0 & 46.3568 & 2.0 \\\\\n",
       "\t3 & 1.0 & 1.0 & 49.1365 & 3.0 \\\\\n",
       "\\end{tabular}\n"
      ],
      "text/plain": [
       "\u001b[1m3×4 DataFrame\u001b[0m\n",
       "\u001b[1m Row \u001b[0m│\u001b[1m subject \u001b[0m\u001b[1m factor \u001b[0m\u001b[1m response \u001b[0m\u001b[1m time    \u001b[0m\n",
       "     │\u001b[90m Float64 \u001b[0m\u001b[90m Cat…   \u001b[0m\u001b[90m Float64  \u001b[0m\u001b[90m Float64 \u001b[0m\n",
       "─────┼────────────────────────────────────\n",
       "   1 │     1.0  1.0      46.951       1.0\n",
       "   2 │     1.0  1.0      46.3568      2.0\n",
       "   3 │     1.0  1.0      49.1365      3.0"
      ]
     },
     "execution_count": 24,
     "metadata": {},
     "output_type": "execute_result"
    }
   ],
   "source": [
    "using CategoricalArrays\n",
    "\n",
    "df = download(\"https://raw.githubusercontent.com/PharmCat/edu/main/csv/1freparma.csv\") |> CSV.File |> DataFrame\n",
    "\n",
    "transform!(df, :factor => categorical, renamecols=false)\n",
    "\n",
    "df[1:3, :]"
   ]
  },
  {
   "cell_type": "code",
   "execution_count": 14,
   "id": "baaa0dd4",
   "metadata": {},
   "outputs": [
    {
     "data": {
      "text/plain": [
       "StatsModels.TableRegressionModel{LinearModel{GLM.LmResp{Vector{Float64}}, GLM.DensePredChol{Float64, CholeskyPivoted{Float64, Matrix{Float64}, Vector{Int64}}}}, Matrix{Float64}}\n",
       "\n",
       "response ~ 1 + time + factor + time & factor\n",
       "\n",
       "Coefficients:\n",
       "─────────────────────────────────────────────────────────────────────────────────\n",
       "                        Coef.  Std. Error      t  Pr(>|t|)   Lower 95%  Upper 95%\n",
       "─────────────────────────────────────────────────────────────────────────────────\n",
       "(Intercept)         44.4231      0.745711  59.57    <1e-99  42.954      45.8922\n",
       "time                 0.504845    0.120182   4.20    <1e-04   0.268078    0.741612\n",
       "factor: 1.0          5.42936     1.05459    5.15    <1e-06   3.35174     7.50698\n",
       "time & factor: 1.0   0.284751    0.169963   1.68    0.0952  -0.0500885   0.619589\n",
       "─────────────────────────────────────────────────────────────────────────────────"
      ]
     },
     "execution_count": 14,
     "metadata": {},
     "output_type": "execute_result"
    }
   ],
   "source": [
    "ols = lm(@formula(response ~ time + factor + time * factor), df)"
   ]
  },
  {
   "cell_type": "code",
   "execution_count": 15,
   "id": "2b950e24",
   "metadata": {},
   "outputs": [
    {
     "data": {
      "text/html": [
       "<div><div style = \"float: left;\"><span>3×9 DataFrame</span></div><div style = \"clear: both;\"></div></div><div class = \"data-frame\" style = \"overflow-x: scroll;\"><table class = \"data-frame\" style = \"margin-bottom: 6px;\"><thead><tr class = \"header\"><th class = \"rowNumber\" style = \"font-weight: bold; text-align: right;\">Row</th><th style = \"text-align: left;\">subject</th><th style = \"text-align: left;\">response</th><th style = \"text-align: left;\">factor</th><th style = \"text-align: left;\">r1</th><th style = \"text-align: left;\">r2</th><th style = \"text-align: left;\">s2</th><th style = \"text-align: left;\">factor2</th><th style = \"text-align: left;\">p</th><th style = \"text-align: left;\">nrhoresp</th></tr><tr class = \"subheader headerLastRow\"><th class = \"rowNumber\" style = \"font-weight: bold; text-align: right;\"></th><th title = \"Float64\" style = \"text-align: left;\">Float64</th><th title = \"Float64\" style = \"text-align: left;\">Float64</th><th title = \"CategoricalValue{Float64, UInt32}\" style = \"text-align: left;\">Cat…</th><th title = \"String1\" style = \"text-align: left;\">String1</th><th title = \"String1\" style = \"text-align: left;\">String1</th><th title = \"Float64\" style = \"text-align: left;\">Float64</th><th title = \"String1\" style = \"text-align: left;\">String1</th><th title = \"Int64\" style = \"text-align: left;\">Int64</th><th title = \"Float64\" style = \"text-align: left;\">Float64</th></tr></thead><tbody><tr><td class = \"rowNumber\" style = \"font-weight: bold; text-align: right;\">1</td><td style = \"text-align: right;\">1.0</td><td style = \"text-align: right;\">36.2898</td><td style = \"text-align: left;\">1.0</td><td style = \"text-align: left;\">A</td><td style = \"text-align: left;\">D</td><td style = \"text-align: right;\">1.0</td><td style = \"text-align: left;\">G</td><td style = \"text-align: right;\">1</td><td style = \"text-align: right;\">27.2595</td></tr><tr><td class = \"rowNumber\" style = \"font-weight: bold; text-align: right;\">2</td><td style = \"text-align: right;\">1.0</td><td style = \"text-align: right;\">35.2288</td><td style = \"text-align: left;\">1.0</td><td style = \"text-align: left;\">A</td><td style = \"text-align: left;\">D</td><td style = \"text-align: right;\">1.0</td><td style = \"text-align: left;\">G</td><td style = \"text-align: right;\">2</td><td style = \"text-align: right;\">26.5341</td></tr><tr><td class = \"rowNumber\" style = \"font-weight: bold; text-align: right;\">3</td><td style = \"text-align: right;\">1.0</td><td style = \"text-align: right;\">34.7597</td><td style = \"text-align: left;\">1.0</td><td style = \"text-align: left;\">A</td><td style = \"text-align: left;\">D</td><td style = \"text-align: right;\">1.0</td><td style = \"text-align: left;\">G</td><td style = \"text-align: right;\">3</td><td style = \"text-align: right;\">26.7089</td></tr></tbody></table></div>"
      ],
      "text/latex": [
       "\\begin{tabular}{r|ccccccccc}\n",
       "\t& subject & response & factor & r1 & r2 & s2 & factor2 & p & nrhoresp\\\\\n",
       "\t\\hline\n",
       "\t& Float64 & Float64 & Cat… & String1 & String1 & Float64 & String1 & Int64 & Float64\\\\\n",
       "\t\\hline\n",
       "\t1 & 1.0 & 36.2898 & 1.0 & A & D & 1.0 & G & 1 & 27.2595 \\\\\n",
       "\t2 & 1.0 & 35.2288 & 1.0 & A & D & 1.0 & G & 2 & 26.5341 \\\\\n",
       "\t3 & 1.0 & 34.7597 & 1.0 & A & D & 1.0 & G & 3 & 26.7089 \\\\\n",
       "\\end{tabular}\n"
      ],
      "text/plain": [
       "\u001b[1m3×9 DataFrame\u001b[0m\n",
       "\u001b[1m Row \u001b[0m│\u001b[1m subject \u001b[0m\u001b[1m response \u001b[0m\u001b[1m factor \u001b[0m\u001b[1m r1      \u001b[0m\u001b[1m r2      \u001b[0m\u001b[1m s2      \u001b[0m\u001b[1m factor2 \u001b[0m\u001b[1m p     \u001b[0m\u001b[1m n\u001b[0m ⋯\n",
       "     │\u001b[90m Float64 \u001b[0m\u001b[90m Float64  \u001b[0m\u001b[90m Cat…   \u001b[0m\u001b[90m String1 \u001b[0m\u001b[90m String1 \u001b[0m\u001b[90m Float64 \u001b[0m\u001b[90m String1 \u001b[0m\u001b[90m Int64 \u001b[0m\u001b[90m F\u001b[0m ⋯\n",
       "─────┼──────────────────────────────────────────────────────────────────────────\n",
       "   1 │     1.0   36.2898  1.0     A        D            1.0  G            1    ⋯\n",
       "   2 │     1.0   35.2288  1.0     A        D            1.0  G            2\n",
       "   3 │     1.0   34.7597  1.0     A        D            1.0  G            3\n",
       "\u001b[36m                                                                1 column omitted\u001b[0m"
      ]
     },
     "execution_count": 15,
     "metadata": {},
     "output_type": "execute_result"
    }
   ],
   "source": [
    "using CategoricalArrays\n",
    "\n",
    "# ftdf3.csv\n",
    "\n",
    "df = download(\"https://raw.githubusercontent.com/PharmCat/edu/main/csv/ftdf3.csv\") |> CSV.File |> DataFrame\n",
    "\n",
    "transform!(df, :factor => categorical, renamecols=false)\n",
    "\n",
    "df[1:3, :]"
   ]
  },
  {
   "cell_type": "markdown",
   "id": "b95ec81a",
   "metadata": {},
   "source": [
    "**Д.З.**\n",
    "\n",
    "Провести анализ таблицы ftdf3.csv - изучить влияние факторов  \"r1\" и \"factor2\" на переменную \"response\".\n",
    "\n",
    "Изучить модель влияния факторов \"factor\" и \"factor2\" на переменную \"response\", какой из этих фактором значимо влияет на зависимую переменную?\n",
    "\n",
    "В примере ниже выделены вектор ответов $y$ и матрица $X$, найти вектор $β$ и вариационнл-ковариационную матрицу $cov(β|X)$."
   ]
  },
  {
   "cell_type": "code",
   "execution_count": 16,
   "id": "df864d2b",
   "metadata": {},
   "outputs": [],
   "source": [
    "y = df.response\n",
    "X = Matrix(df[:, [:p, :nrhoresp]])\n",
    "nothing"
   ]
  },
  {
   "cell_type": "markdown",
   "id": "70f899fc",
   "metadata": {
    "slideshow": {
     "slide_type": "slide"
    }
   },
   "source": [
    "* Что такое стандартизация?\n",
    "\n",
    "Стандартизация - это приведение даннных к единому масшабу таким образом, что получаем следующую статистику распределения данных: \n",
    "\n",
    "Среднее: $\\mu = 0$\n",
    "\n",
    "Стандартное отклонение: $\\sigma = 1$\n",
    "\n",
    "Используя следующий вид: \n",
    "\n",
    "$z = \\frac{x - \\mu}{\\sigma}$\n",
    "\n",
    "Стандартизация используется для значений данных, которые имеют нормальное распределение. Кроме того, применяя стандартизацию, мы стремимся сделать среднее значение набора данных равным 0, а стандартное отклонение эквивалентным 1.\n",
    "\n",
    "Таким образом, набор данных становится более очевидным и удобным для анализа, а оценки получаются несмещенными. \n",
    "\n",
    "* Для чего применяется стандартизация\n",
    "\n",
    "Для того чтобы наша модель работала хорошо, очень важно, чтобы данные имели одинаковый масштаб с точки зрения функции, чтобы избежать смещения в результате.\n",
    "Так, например, имея множество числовых независимых переменных, нам необходимо представить их в одном масштабе, чтобы сделать правильные выводы. В противном случае, разброс может получится максимальным, что усложнит выводы. \n",
    "\n",
    "* Какие виды стандартизации бывают\n",
    "\n",
    "Есть несколько способов стандартизации. Можно использовать функцию StandardScaler из библиотеки sklearn.preprocessing. Можно делать это по формуле, приводя среднее к нулю, а стандартное отклонение к единице."
   ]
  },
  {
   "cell_type": "markdown",
   "id": "0b4f0613",
   "metadata": {
    "slideshow": {
     "slide_type": "slide"
    }
   },
   "source": [
    "* Что такое Ridge - регрессия?\n",
    "\n",
    "Ридж-регрессия или гребневая регрессия (ridge regression) - это один из методов понижения размерности. Часто его применяют для борьбы с переизбыточностью данных, когда независимые переменные коррелируют друг с другом (т.е. имеет место мультиколлинеарность). Следствием этого является плохая обусловленность матрицы $X^TX$ и неустойчивость оценок коэффициентов регрессии. Оценки, например, могут иметь неправильный знак или значения, которые намного превосходят те, которые приемлемы из физических или практических соображений.\n",
    "\n",
    "Особенностью данного вида регрессии является то, что теперь мы прибавляем к классической функции линейной регрессии штраф $\\lambda \\sum |\\beta|$, где $\\lambda$ - размер штрафа, а $\\beta$ - коэффициенты регрессии. \n",
    "\n",
    "Чем меньше $\\lambda$, тем выше дисперсия и ниже смещение.\n",
    "Чем больше $\\lambda$, тем ниже дисперсия и выше смещение.\n",
    "\n",
    "* Что такое Lasso - регрессия?\n",
    "\n",
    "Почти идентична ридж-регрессии. В ней штраф — это сумма модулей значений коэффициентов.\n",
    "\n",
    "Лассо-регрессия - это тип линейной регрессии, который использует сжатие (shrinkage). Сжатие - это когда значения данных сжимаются к центральной точке, например, к среднему значению. Процедура лассо поощряет простые, разреженные модели (т.е. модели с меньшим количеством параметров). Этот конкретный тип регрессии хорошо подходит для моделей, демонстрирующих высокий уровень мультиколлинеарности, или когда вы хотите автоматизировать определенные части выбора модели, такие как выбор переменных / исключение параметров."
   ]
  },
  {
   "cell_type": "markdown",
   "id": "37b8df99",
   "metadata": {
    "slideshow": {
     "slide_type": "subslide"
    }
   },
   "source": [
    "Дом материалы по теме: https://timeseriesreasoning.com/contents/deep-dive-into-variance-covariance-matrices/\n",
    "\n",
    "\n",
    "\n",
    "### Ссылки\n",
    "\n",
    "* **Julia**\n",
    "\n",
    "    - Ссылка: https://julialang.org/\n",
    "\n",
    "\n",
    "* **Документация к основным пакетам Julia**\n",
    "\n",
    "    - *Математика и анализ*\n",
    "\n",
    "        * Roots.jl (нахождение корней) https://juliamath.github.io/Roots.jl/stable/\n",
    "\n",
    "        * Optim.jl (Поиск минимума/максимума) https://julianlsolvers.github.io/Optim.jl/stable/#user/minimization/\n",
    "\n",
    "        * ForwardDiff.jl (Дифференцирование) https://juliadiff.org/ForwardDiff.jl/stable/\n",
    "\n",
    "        * QuadGK.jl (Численное интегрирование) https://juliamath.github.io/QuadGK.jl/stable/\n",
    "\n",
    "        * DifferentialEquations.jl (Численное решение дифференциальных уравнений) https://diffeq.sciml.ai/stable/\n",
    "\n",
    "    - *Статистика*\n",
    "\n",
    "        * Distributions.jl (Основной пакет для работы с распределениями) https://juliastats.org/Distributions.jl/stable/\n",
    "\n",
    "        * Statistics - Базовый пакет с основными статистическими функциями (не требует установки, но надо подключать `using Statistics`)\n",
    "\n",
    "        * HypothesisTests.jl (основные статистические критерии) https://juliastats.org/HypothesisTests.jl/stable/\n",
    "\n",
    "        * GLM.jl (Общая/обобщенная линейная модель) https://juliastats.org/GLM.jl/stable/\n",
    "        \n",
    "    - *Другое*\n",
    "\n",
    "        * Plots.jl (Графики) https://docs.juliaplots.org\n",
    "        \n",
    "        * DataFrames.jl (Таблицы) https://dataframes.juliadata.org/stable/\n",
    "        \n",
    "        * CSV.jl (Импорт/экспорт CSV файлов) https://csv.juliadata.org/stable/\n",
    "\n",
    "\n",
    "\n",
    "* **Литература**\n",
    "\n",
    "    * Математика. Базовый курс / Б.Ш. Гулиян, Р.Я. Хамидуллин. Москва : Синергия, 2013. - 712 с. - ISBN 978-5-4257-0109-1. \n",
    "\n",
    "    * Фадеева Л. Н., Лебедев А. В., Теория вероятностей и математическая статистика: учебное пособие. - 2-е изд., перераб. и доп. - М.: Эксмо, 2010. - 496 с. \n",
    "\n",
    "    * [The Matrix Cookbook](https://www.math.uwaterloo.ca/~hwolkowi/matrixcookbook.pdf)\n",
    "\n",
    "    * Линейная алгебра и ее применения - Стренг Г.\n",
    "\n",
    "    * Матричный анализ - Хорн Р., Джонсон Ч.\n",
    "\n",
    "\n",
    "* **Дополнительная литература:**\n",
    "\n",
    "    * Математическая статистика в медицине, В. А. Медик, М. С. Токмачев, 978-5-279-03195-5\n",
    "\n",
    "    * *Медико-биологическая статистика. Гланц. Пер. с англ. — М., Практика, 1998. — 459 с.*\n",
    "\n",
    "    * *Байесовская статистика: Star Wars, LEGO, резиновые уточки и многое другое*\n",
    "\n",
    "    * *Занимательная статистика. Манга.  Син Такахаси, 2009, 224с, ISBN: 978-5-97060-179-2*"
   ]
  },
  {
   "cell_type": "code",
   "execution_count": 17,
   "id": "4f221bb1",
   "metadata": {},
   "outputs": [
    {
     "name": "stdout",
     "output_type": "stream",
     "text": [
      "Нижн. гр: 15.623284821869575\n",
      "Нижн. гр: 24.376715178130425\n",
      "Bound: 24.37381999992906\n",
      "Condition OK\n",
      "Bound: 24.376715198159218\n"
     ]
    }
   ],
   "source": [
    "using Distributions\n",
    "\n",
    "dist = Normal(20, 2.5)\n",
    "p    = cdf(dist, 24) - cdf(dist, 21)\n",
    "println(\"Нижн. гр: \", quantile(dist, 0.04))\n",
    "println(\"Нижн. гр: \", quantile(dist, 0.96))\n",
    "\n",
    "################################################################################\n",
    "#Нижн. гр: 15.623284821869575\n",
    "#Нижн. гр: 24.376715178130425\n",
    "ub = 20 + 2.5*3\n",
    "lb = 20 + 2.5\n",
    "p = 0.04\n",
    "while true\n",
    "    pv = ccdf(dist, lb)\n",
    "    if abs(p-pv) < 0.0001 break end\n",
    "    lb += 0.00001\n",
    "end\n",
    "println(\"Bound: \", lb)\n",
    "\n",
    "################################################################################\n",
    "#Нижн. гр: 15.623284821869575\n",
    "#Нижн. гр: 24.376715178130425\n",
    "ub = 20 + 2.5*3\n",
    "lb = 20 + 2.5\n",
    "p  = 0.04\n",
    "if ccdf(dist, lb) > p && ccdf(dist, ub) < p\n",
    "    println(\"Condition OK\")\n",
    "else\n",
    "    println(\"Condition FALSE\")\n",
    "end\n",
    "val = NaN\n",
    "while true\n",
    "    val = (lb+ub)/2\n",
    "    pv  = ccdf(dist, val)\n",
    "    if abs(p-pv) < 0.000000001 break end\n",
    "\n",
    "    if pv < p\n",
    "        ub = val\n",
    "    else\n",
    "        lb = val\n",
    "    end\n",
    "end\n",
    "println(\"Bound: \", val)"
   ]
  }
 ],
 "metadata": {
  "@webio": {
   "lastCommId": null,
   "lastKernelId": null
  },
  "celltoolbar": "Slideshow",
  "kernelspec": {
   "display_name": "Julia 1.8.2",
   "language": "julia",
   "name": "julia-1.8"
  },
  "language_info": {
   "file_extension": ".jl",
   "mimetype": "application/julia",
   "name": "julia",
   "version": "1.8.2"
  }
 },
 "nbformat": 4,
 "nbformat_minor": 5
}
